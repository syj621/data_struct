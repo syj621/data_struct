{
 "cells": [
  {
   "cell_type": "code",
   "execution_count": 2,
   "metadata": {
    "collapsed": true
   },
   "outputs": [],
   "source": [
    "import random\n",
    "list=[random.randint(0,10) for i in range(10)]\n"
   ]
  },
  {
   "cell_type": "code",
   "execution_count": 3,
   "outputs": [],
   "source": [
    "#Bubble Sort\n",
    "def bubble_sort(li):\n",
    "    for i in range(len(li)-1):\n",
    "        exchange=True\n",
    "        for j in range(len(li)-i-1):\n",
    "            if li[j] < li[j+1]:\n",
    "                li[j],li[j+1]=li[j+1], li[j]\n",
    "                exchange=False\n",
    "        print(li)\n",
    "        if exchange:\n",
    "            return li\n",
    "    return li\n"
   ],
   "metadata": {
    "collapsed": false
   }
  },
  {
   "cell_type": "code",
   "execution_count": 4,
   "outputs": [
    {
     "name": "stdout",
     "output_type": "stream",
     "text": [
      "[9, 3, 7, 5, 5, 2, 1, 7, 8, 0]\n",
      "[9, 7, 5, 5, 3, 2, 7, 8, 1, 0]\n",
      "[9, 7, 5, 5, 3, 7, 8, 2, 1, 0]\n",
      "[9, 7, 5, 5, 7, 8, 3, 2, 1, 0]\n",
      "[9, 7, 5, 7, 8, 5, 3, 2, 1, 0]\n",
      "[9, 7, 7, 8, 5, 5, 3, 2, 1, 0]\n",
      "[9, 7, 8, 7, 5, 5, 3, 2, 1, 0]\n",
      "[9, 8, 7, 7, 5, 5, 3, 2, 1, 0]\n",
      "[9, 8, 7, 7, 5, 5, 3, 2, 1, 0]\n"
     ]
    },
    {
     "data": {
      "text/plain": "[9, 8, 7, 7, 5, 5, 3, 2, 1, 0]"
     },
     "execution_count": 4,
     "metadata": {},
     "output_type": "execute_result"
    }
   ],
   "source": [
    "bubble_sort(list)"
   ],
   "metadata": {
    "collapsed": false
   }
  },
  {
   "cell_type": "code",
   "execution_count": 5,
   "outputs": [],
   "source": [
    "#Select Sort\n",
    "def select_sort(li):\n",
    "    for i in range(len(li)-1):\n",
    "        min=i\n",
    "        for j in range(i+1,len(li)):\n",
    "            if li[min]>li[j]:\n",
    "                min=j\n",
    "        li[i],li[min]=li[min],li[i]\n",
    "        print(li)\n",
    "    return li"
   ],
   "metadata": {
    "collapsed": false
   }
  },
  {
   "cell_type": "code",
   "execution_count": 6,
   "outputs": [
    {
     "name": "stdout",
     "output_type": "stream",
     "text": [
      "[0, 9, 7, 5, 10, 1, 1, 0, 7, 5]\n",
      "[0, 0, 7, 5, 10, 1, 1, 9, 7, 5]\n",
      "[0, 0, 1, 5, 10, 7, 1, 9, 7, 5]\n",
      "[0, 0, 1, 1, 10, 7, 5, 9, 7, 5]\n",
      "[0, 0, 1, 1, 5, 7, 10, 9, 7, 5]\n",
      "[0, 0, 1, 1, 5, 5, 10, 9, 7, 7]\n",
      "[0, 0, 1, 1, 5, 5, 7, 9, 10, 7]\n",
      "[0, 0, 1, 1, 5, 5, 7, 7, 10, 9]\n",
      "[0, 0, 1, 1, 5, 5, 7, 7, 9, 10]\n"
     ]
    },
    {
     "data": {
      "text/plain": "[0, 0, 1, 1, 5, 5, 7, 7, 9, 10]"
     },
     "execution_count": 6,
     "metadata": {},
     "output_type": "execute_result"
    }
   ],
   "source": [
    "list=[random.randint(0,10) for i in range(10)]\n",
    "select_sort(list)"
   ],
   "metadata": {
    "collapsed": false
   }
  },
  {
   "cell_type": "code",
   "execution_count": 7,
   "outputs": [],
   "source": [
    "#Insert_Sort\n",
    "def insert_sort(li):\n",
    "    for i in range(1,len(li)):\n",
    "        tmp=li[i]\n",
    "        j=i-1\n",
    "        while  j>=0 and li[j]>tmp:\n",
    "            li[j+1]=li[j]\n",
    "            j=j-1\n",
    "        li[j+1]=tmp\n",
    "        print(li)\n",
    "    return li"
   ],
   "metadata": {
    "collapsed": false
   }
  },
  {
   "cell_type": "code",
   "execution_count": 8,
   "outputs": [
    {
     "name": "stdout",
     "output_type": "stream",
     "text": [
      "[1, 6, 6, 5, 5, 5, 10, 1, 7, 6]\n",
      "[1, 6, 6, 5, 5, 5, 10, 1, 7, 6]\n",
      "[1, 5, 6, 6, 5, 5, 10, 1, 7, 6]\n",
      "[1, 5, 5, 6, 6, 5, 10, 1, 7, 6]\n",
      "[1, 5, 5, 5, 6, 6, 10, 1, 7, 6]\n",
      "[1, 5, 5, 5, 6, 6, 10, 1, 7, 6]\n",
      "[1, 1, 5, 5, 5, 6, 6, 10, 7, 6]\n",
      "[1, 1, 5, 5, 5, 6, 6, 7, 10, 6]\n",
      "[1, 1, 5, 5, 5, 6, 6, 6, 7, 10]\n"
     ]
    },
    {
     "data": {
      "text/plain": "[1, 1, 5, 5, 5, 6, 6, 6, 7, 10]"
     },
     "execution_count": 8,
     "metadata": {},
     "output_type": "execute_result"
    }
   ],
   "source": [
    "list=[random.randint(0,10) for i in range(10)]\n",
    "insert_sort(list)"
   ],
   "metadata": {
    "collapsed": false
   }
  },
  {
   "cell_type": "code",
   "execution_count": 9,
   "outputs": [],
   "source": [
    "#Quick_Sort\n",
    "def partition(li,left,right):\n",
    "    tmp=li[left]\n",
    "    while left<right:\n",
    "        while left<right and li[right]>=tmp:\n",
    "            right-=1\n",
    "        li[left]=li[right]\n",
    "        while left<right and li[left]<=tmp:\n",
    "            left+=1\n",
    "        li[right]=li[left]\n",
    "    li[left]=tmp\n",
    "    return left\n",
    "def quick_sort(li,left,right):\n",
    "    if left<right:\n",
    "        mid=partition(li,left,right)\n",
    "        quick_sort(li,left,mid-1)\n",
    "        quick_sort(li,mid+1,right)\n"
   ],
   "metadata": {
    "collapsed": false
   }
  },
  {
   "cell_type": "code",
   "execution_count": 10,
   "outputs": [
    {
     "name": "stdout",
     "output_type": "stream",
     "text": [
      "[1, 2, 3, 4, 5, 6, 7, 8, 9]\n"
     ]
    }
   ],
   "source": [
    "li=[5,7,4,6,3,1,2,9,8]\n",
    "quick_sort(li,0,len(li)-1)\n",
    "print(li)"
   ],
   "metadata": {
    "collapsed": false
   }
  },
  {
   "cell_type": "code",
   "execution_count": 11,
   "outputs": [],
   "source": [
    "#heap_sort\n",
    "def sift(li,low,high):\n",
    "    i=low\n",
    "    j=2*i+1\n",
    "    tmp=li[i]\n",
    "    while j<=high:\n",
    "        if j+1<=high and li[j+1]<li[j]:\n",
    "            j=j+1\n",
    "        if li[j] < tmp:\n",
    "            li[i],li[j]=li[j],li[i]\n",
    "            i=j\n",
    "            j=i*2+1\n",
    "        else:\n",
    "            break\n",
    "    li[i]=tmp\n",
    "\n",
    "def heap_sort(li):\n",
    "    n=len(li)\n",
    "    for i in range(n//2-1,-1,-1):\n",
    "        sift(li,i,n-1)\n",
    "    for i in range(n-1,-1,-1):\n",
    "        li[0],li[i]=li[i],li[0]\n",
    "        sift(li,0,i-1)\n",
    "    return li"
   ],
   "metadata": {
    "collapsed": false
   }
  },
  {
   "cell_type": "code",
   "execution_count": 12,
   "outputs": [
    {
     "data": {
      "text/plain": "[9, 8, 7, 6, 4, 3, 2, 1, 0]"
     },
     "execution_count": 12,
     "metadata": {},
     "output_type": "execute_result"
    }
   ],
   "source": [
    "list=[3,1,2,4,7,9,8,6,0]\n",
    "heap_sort(list)\n"
   ],
   "metadata": {
    "collapsed": false
   }
  },
  {
   "cell_type": "code",
   "execution_count": 13,
   "outputs": [
    {
     "name": "stdout",
     "output_type": "stream",
     "text": [
      "0\n",
      "1\n",
      "2\n",
      "3\n",
      "4\n",
      "6\n",
      "7\n",
      "8\n"
     ]
    }
   ],
   "source": [
    "import heapq\n",
    "list=[3,1,2,4,7,9,8,6,0]\n",
    "heapq.heapify(list)\n",
    "for i in range(len(list)-1):\n",
    "    print(heapq.heappop(list))\n"
   ],
   "metadata": {
    "collapsed": false
   }
  },
  {
   "cell_type": "code",
   "execution_count": 14,
   "outputs": [],
   "source": [
    "#topk prblem select k biggest number in n-size list\n",
    "def topk(li,k):\n",
    "    heap=li[0:k]\n",
    "    for i in range(k//2-1,-1,-1):\n",
    "        sift(heap,i,k-1)\n",
    "    for i in range(k,len(li)):\n",
    "        if li[i]>heap[0]:\n",
    "            heap[0]=li[i]\n",
    "            sift(heap,0,k-1)\n",
    "    for i in range(k-1,-1,-1):\n",
    "        heap[0],heap[i]=heap[i],heap[0]\n",
    "        sift(heap,0,i-1)\n",
    "    return heap\n"
   ],
   "metadata": {
    "collapsed": false
   }
  },
  {
   "cell_type": "code",
   "execution_count": 15,
   "outputs": [
    {
     "data": {
      "text/plain": "[9, 8, 7, 6, 4]"
     },
     "execution_count": 15,
     "metadata": {},
     "output_type": "execute_result"
    }
   ],
   "source": [
    "list=[3,1,2,4,7,9,8,6,0]\n",
    "topk(list,5)"
   ],
   "metadata": {
    "collapsed": false
   }
  },
  {
   "cell_type": "code",
   "execution_count": 16,
   "outputs": [],
   "source": [
    "#merge_sort\n",
    "def merge(li,low,mid,high):\n",
    "    i=low\n",
    "    j=mid+1\n",
    "    ltmp=[]\n",
    "    while i<=mid and j <=high:\n",
    "        if li[i]<li[j]:\n",
    "           ltmp.append(li[i])\n",
    "           i+=1\n",
    "        else:\n",
    "            ltmp.append(li[j])\n",
    "            j+=1\n",
    "    while i<=mid:\n",
    "        ltmp.append(li[i])\n",
    "        i+=1\n",
    "    while j<=high:\n",
    "        ltmp.append(li[j])\n",
    "        j+=1\n",
    "    li[low:high+1]=ltmp\n",
    "\n",
    "def merge_sort(li,low,high):\n",
    "    if low<high:\n",
    "        merge_sort(li,low,(low+high)//2)\n",
    "        merge_sort(li,((low+high)//2)+1,high)\n",
    "        merge(li,low,(low+high)//2,high)"
   ],
   "metadata": {
    "collapsed": false
   }
  },
  {
   "cell_type": "code",
   "execution_count": 17,
   "outputs": [
    {
     "name": "stdout",
     "output_type": "stream",
     "text": [
      "[0, 1, 2, 3, 4, 5, 6, 7, 8, 9]\n"
     ]
    }
   ],
   "source": [
    "list=[3,1,2,4,7,9,8,6,0,5]\n",
    "merge_sort(list,0,9)\n",
    "print(list)"
   ],
   "metadata": {
    "collapsed": false
   }
  },
  {
   "cell_type": "code",
   "execution_count": 18,
   "outputs": [
    {
     "data": {
      "text/plain": "[0, 1, 2, 3, 4, 5, 6, 7, 8, 9]"
     },
     "execution_count": 18,
     "metadata": {},
     "output_type": "execute_result"
    }
   ],
   "source": [
    "def insert_sort_gap(li,gap):\n",
    "    for i in range(gap,len(li)):\n",
    "        tmp=li[i]\n",
    "        j=i-gap\n",
    "        while j>=0 and li[j]>tmp:\n",
    "            li[j+gap]=li[j]\n",
    "            j=j-gap\n",
    "        li[j+gap]=tmp\n",
    "\n",
    "def shell_sort(li):\n",
    "    d=len(li)//2\n",
    "    while d>=1:\n",
    "        insert_sort_gap(li,d)\n",
    "        d=d//2\n",
    "    return li;\n",
    "list=[3,1,2,4,7,9,8,6,0,5]\n",
    "shell_sort(list)"
   ],
   "metadata": {
    "collapsed": false
   }
  },
  {
   "cell_type": "code",
   "execution_count": 19,
   "outputs": [
    {
     "data": {
      "text/plain": "[0,\n 0,\n 0,\n 0,\n 0,\n 0,\n 0,\n 0,\n 0,\n 0,\n 0,\n 0,\n 0,\n 0,\n 0,\n 0,\n 0,\n 0,\n 0,\n 0,\n 0,\n 0,\n 0,\n 0,\n 0,\n 0,\n 0,\n 0,\n 0,\n 0,\n 0,\n 0,\n 0,\n 0,\n 0,\n 0,\n 0,\n 0,\n 0,\n 0,\n 0,\n 0,\n 0,\n 0,\n 0,\n 0,\n 0,\n 0,\n 0,\n 0,\n 0,\n 0,\n 0,\n 0,\n 0,\n 0,\n 0,\n 0,\n 0,\n 0,\n 0,\n 0,\n 0,\n 0,\n 0,\n 0,\n 0,\n 0,\n 0,\n 0,\n 0,\n 0,\n 0,\n 0,\n 0,\n 0,\n 0,\n 0,\n 0,\n 0,\n 0,\n 0,\n 0,\n 0,\n 0,\n 0,\n 0,\n 0,\n 0,\n 0,\n 0,\n 0,\n 0,\n 0,\n 0,\n 0,\n 0,\n 0,\n 0,\n 0,\n 0,\n 0,\n 0,\n 0,\n 1,\n 1,\n 1,\n 1,\n 1,\n 1,\n 1,\n 1,\n 1,\n 1,\n 1,\n 1,\n 1,\n 1,\n 1,\n 1,\n 1,\n 1,\n 1,\n 1,\n 1,\n 1,\n 1,\n 1,\n 1,\n 1,\n 1,\n 1,\n 1,\n 1,\n 1,\n 1,\n 1,\n 1,\n 1,\n 1,\n 1,\n 1,\n 1,\n 1,\n 1,\n 1,\n 1,\n 1,\n 1,\n 1,\n 1,\n 1,\n 1,\n 1,\n 1,\n 1,\n 1,\n 1,\n 1,\n 1,\n 1,\n 1,\n 1,\n 1,\n 1,\n 1,\n 1,\n 1,\n 1,\n 1,\n 1,\n 1,\n 1,\n 1,\n 1,\n 1,\n 1,\n 1,\n 1,\n 1,\n 1,\n 1,\n 1,\n 1,\n 1,\n 2,\n 2,\n 2,\n 2,\n 2,\n 2,\n 2,\n 2,\n 2,\n 2,\n 2,\n 2,\n 2,\n 2,\n 2,\n 2,\n 2,\n 2,\n 2,\n 2,\n 2,\n 2,\n 2,\n 2,\n 2,\n 2,\n 2,\n 2,\n 2,\n 2,\n 2,\n 2,\n 2,\n 2,\n 2,\n 2,\n 2,\n 2,\n 2,\n 2,\n 2,\n 2,\n 2,\n 2,\n 2,\n 2,\n 2,\n 2,\n 2,\n 2,\n 2,\n 2,\n 2,\n 2,\n 2,\n 2,\n 2,\n 2,\n 2,\n 2,\n 2,\n 2,\n 2,\n 2,\n 2,\n 2,\n 2,\n 2,\n 2,\n 2,\n 2,\n 2,\n 2,\n 2,\n 2,\n 2,\n 2,\n 2,\n 2,\n 2,\n 2,\n 2,\n 2,\n 2,\n 2,\n 2,\n 2,\n 2,\n 2,\n 2,\n 2,\n 2,\n 2,\n 2,\n 2,\n 2,\n 2,\n 2,\n 2,\n 2,\n 2,\n 2,\n 2,\n 2,\n 2,\n 2,\n 2,\n 2,\n 2,\n 2,\n 2,\n 2,\n 2,\n 2,\n 2,\n 2,\n 2,\n 3,\n 3,\n 3,\n 3,\n 3,\n 3,\n 3,\n 3,\n 3,\n 3,\n 3,\n 3,\n 3,\n 3,\n 3,\n 3,\n 3,\n 3,\n 3,\n 3,\n 3,\n 3,\n 3,\n 3,\n 3,\n 3,\n 3,\n 3,\n 3,\n 3,\n 3,\n 3,\n 3,\n 3,\n 3,\n 3,\n 3,\n 3,\n 3,\n 3,\n 3,\n 3,\n 3,\n 3,\n 3,\n 3,\n 3,\n 3,\n 3,\n 3,\n 3,\n 3,\n 3,\n 3,\n 3,\n 3,\n 3,\n 3,\n 3,\n 3,\n 3,\n 3,\n 3,\n 3,\n 3,\n 3,\n 3,\n 3,\n 3,\n 3,\n 3,\n 3,\n 3,\n 3,\n 3,\n 3,\n 3,\n 3,\n 3,\n 3,\n 3,\n 3,\n 3,\n 3,\n 3,\n 3,\n 3,\n 3,\n 3,\n 3,\n 3,\n 3,\n 3,\n 3,\n 3,\n 3,\n 4,\n 4,\n 4,\n 4,\n 4,\n 4,\n 4,\n 4,\n 4,\n 4,\n 4,\n 4,\n 4,\n 4,\n 4,\n 4,\n 4,\n 4,\n 4,\n 4,\n 4,\n 4,\n 4,\n 4,\n 4,\n 4,\n 4,\n 4,\n 4,\n 4,\n 4,\n 4,\n 4,\n 4,\n 4,\n 4,\n 4,\n 4,\n 4,\n 4,\n 4,\n 4,\n 4,\n 4,\n 4,\n 4,\n 4,\n 4,\n 4,\n 4,\n 4,\n 4,\n 4,\n 4,\n 4,\n 4,\n 4,\n 4,\n 4,\n 4,\n 4,\n 4,\n 4,\n 4,\n 4,\n 4,\n 4,\n 4,\n 4,\n 4,\n 4,\n 4,\n 4,\n 4,\n 4,\n 4,\n 4,\n 4,\n 4,\n 4,\n 4,\n 4,\n 4,\n 4,\n 4,\n 4,\n 4,\n 4,\n 5,\n 5,\n 5,\n 5,\n 5,\n 5,\n 5,\n 5,\n 5,\n 5,\n 5,\n 5,\n 5,\n 5,\n 5,\n 5,\n 5,\n 5,\n 5,\n 5,\n 5,\n 5,\n 5,\n 5,\n 5,\n 5,\n 5,\n 5,\n 5,\n 5,\n 5,\n 5,\n 5,\n 5,\n 5,\n 5,\n 5,\n 5,\n 5,\n 5,\n 5,\n 5,\n 5,\n 5,\n 5,\n 5,\n 5,\n 5,\n 5,\n 5,\n 5,\n 5,\n 5,\n 5,\n 5,\n 5,\n 5,\n 5,\n 5,\n 5,\n 5,\n 5,\n 5,\n 5,\n 5,\n 5,\n 5,\n 5,\n 5,\n 5,\n 5,\n 5,\n 5,\n 5,\n 5,\n 5,\n 5,\n 5,\n 5,\n 5,\n 5,\n 5,\n 5,\n 5,\n 5,\n 5,\n 5,\n 5,\n 5,\n 5,\n 5,\n 5,\n 5,\n 5,\n 5,\n 5,\n 5,\n 5,\n 5,\n 5,\n 5,\n 5,\n 5,\n 5,\n 5,\n 5,\n 5,\n 6,\n 6,\n 6,\n 6,\n 6,\n 6,\n 6,\n 6,\n 6,\n 6,\n 6,\n 6,\n 6,\n 6,\n 6,\n 6,\n 6,\n 6,\n 6,\n 6,\n 6,\n 6,\n 6,\n 6,\n 6,\n 6,\n 6,\n 6,\n 6,\n 6,\n 6,\n 6,\n 6,\n 6,\n 6,\n 6,\n 6,\n 6,\n 6,\n 6,\n 6,\n 6,\n 6,\n 6,\n 6,\n 6,\n 6,\n 6,\n 6,\n 6,\n 6,\n 6,\n 6,\n 6,\n 6,\n 6,\n 6,\n 6,\n 6,\n 6,\n 6,\n 6,\n 6,\n 6,\n 6,\n 6,\n 6,\n 6,\n 6,\n 6,\n 6,\n 6,\n 6,\n 6,\n 6,\n 6,\n 6,\n 6,\n 6,\n 6,\n 6,\n 6,\n 6,\n 6,\n 6,\n 6,\n 6,\n 6,\n 6,\n 6,\n 6,\n 6,\n 6,\n 6,\n 6,\n 6,\n 6,\n 6,\n 6,\n 7,\n 7,\n 7,\n 7,\n 7,\n 7,\n 7,\n 7,\n 7,\n 7,\n 7,\n 7,\n 7,\n 7,\n 7,\n 7,\n 7,\n 7,\n 7,\n 7,\n 7,\n 7,\n 7,\n 7,\n 7,\n 7,\n 7,\n 7,\n 7,\n 7,\n 7,\n 7,\n 7,\n 7,\n 7,\n 7,\n 7,\n 7,\n 7,\n 7,\n 7,\n 7,\n 7,\n 7,\n 7,\n 7,\n 7,\n 7,\n 7,\n 7,\n 7,\n 7,\n 7,\n 7,\n 7,\n 7,\n 7,\n 7,\n 7,\n 7,\n 7,\n 7,\n 7,\n 7,\n 7,\n 7,\n 7,\n 7,\n 7,\n 7,\n 7,\n 7,\n 7,\n 7,\n 7,\n 7,\n 7,\n 7,\n 7,\n 7,\n 7,\n 7,\n 7,\n 7,\n 7,\n 7,\n 7,\n 7,\n 7,\n 7,\n 7,\n 7,\n 7,\n 7,\n 7,\n 7,\n 8,\n 8,\n 8,\n 8,\n 8,\n 8,\n 8,\n 8,\n 8,\n 8,\n 8,\n 8,\n 8,\n 8,\n 8,\n 8,\n 8,\n 8,\n 8,\n 8,\n 8,\n 8,\n 8,\n 8,\n 8,\n 8,\n 8,\n 8,\n 8,\n 8,\n 8,\n 8,\n 8,\n 8,\n 8,\n 8,\n 8,\n 8,\n 8,\n 8,\n 8,\n 8,\n 8,\n 8,\n 8,\n 8,\n 8,\n 8,\n 8,\n 8,\n 8,\n 8,\n 8,\n 8,\n 8,\n 8,\n 8,\n 8,\n 8,\n 8,\n 8,\n 8,\n 8,\n 8,\n 8,\n 8,\n 8,\n 8,\n 8,\n 8,\n 8,\n 8,\n 8,\n 8,\n 8,\n 8,\n 8,\n 8,\n 8,\n 8,\n 8,\n 8,\n 8,\n 8,\n 8,\n 8,\n 8,\n 8,\n 8,\n 8,\n 8,\n 8,\n 8,\n 8,\n 9,\n 9,\n 9,\n 9,\n 9,\n 9,\n 9,\n 9,\n 9,\n 9,\n 9,\n 9,\n 9,\n 9,\n 9,\n 9,\n 9,\n 9,\n 9,\n 9,\n 9,\n 9,\n 9,\n 9,\n 9,\n 9,\n 9,\n 9,\n 9,\n 9,\n 9,\n 9,\n 9,\n 9,\n 9,\n 9,\n 9,\n 9,\n 9,\n 9,\n 9,\n 9,\n 9,\n 9,\n 9,\n 9,\n 9,\n 9,\n 9,\n 9,\n 9,\n 9,\n 9,\n 9,\n 9,\n 9,\n 9,\n 9,\n 9,\n 9,\n 9,\n 9,\n 9,\n 9,\n 9,\n 9,\n 9,\n 9,\n 9,\n 9,\n 9,\n 9,\n 9,\n 9,\n 9,\n 9,\n 9,\n 9,\n 9,\n 9,\n 9,\n 9,\n 9,\n 9,\n 9,\n 9,\n 9,\n 9,\n 9,\n 9,\n 9,\n 9,\n 9,\n 9,\n 9,\n 9,\n 9,\n 9,\n 9,\n 9,\n 9,\n 9,\n 9,\n 9,\n 9,\n 10,\n 10,\n 10,\n 10,\n 10,\n 10,\n 10,\n 10,\n 10,\n 10,\n 10,\n 10,\n 10,\n ...]"
     },
     "execution_count": 19,
     "metadata": {},
     "output_type": "execute_result"
    }
   ],
   "source": [
    "import random\n",
    "def count_sort(li,max_count):\n",
    "    count=[0 for i in range(max_count+1)]\n",
    "    for j in li:\n",
    "        count[j]+=1\n",
    "    li.clear()\n",
    "    for ind,val in enumerate(count):\n",
    "        for i in range(val):\n",
    "            li.append(ind)\n",
    "    return li;\n",
    "li=[random.randint(0,100) for i in range(10000)]\n",
    "count_sort(li,100)"
   ],
   "metadata": {
    "collapsed": false
   }
  },
  {
   "cell_type": "code",
   "execution_count": 20,
   "outputs": [
    {
     "data": {
      "text/plain": "[4, 17, 18, 15, 20, 27, 32, 47, 47, 49, 53, 54, 55, 53, 63, 79, 72, 79, 80, 93]"
     },
     "execution_count": 20,
     "metadata": {},
     "output_type": "execute_result"
    }
   ],
   "source": [
    "#bucket sort\n",
    "def bucket_sort(li,n=100,max=150):\n",
    "    buckets = [[] for i in range(n)]\n",
    "    for var in li:\n",
    "        i=min(var//(max//n),n-1)\n",
    "        buckets[i].append(var)\n",
    "    for j in range(len(buckets[i])-1,0,-1):\n",
    "        if buckets[i][j]<buckets[i][j-1]:\n",
    "            buckets[i][j],buckets[i][j-1]=buckets[i][j-1],buckets[i][j]\n",
    "            j-=1\n",
    "        else:\n",
    "            break\n",
    "    ltmp=[]\n",
    "    for buc in buckets:\n",
    "        ltmp.extend(buc)\n",
    "    return ltmp\n",
    "li=[random.randint(0,100) for i in range(20)]\n",
    "bucket_sort(li,10,100)"
   ],
   "metadata": {
    "collapsed": false
   }
  },
  {
   "cell_type": "code",
   "execution_count": 21,
   "outputs": [
    {
     "data": {
      "text/plain": "[0,\n 1,\n 2,\n 3,\n 4,\n 5,\n 6,\n 7,\n 8,\n 9,\n 10,\n 11,\n 12,\n 13,\n 14,\n 15,\n 16,\n 17,\n 18,\n 19,\n 20,\n 21,\n 22,\n 23,\n 24,\n 25,\n 26,\n 27,\n 28,\n 29,\n 30,\n 31,\n 32,\n 33,\n 34,\n 35,\n 36,\n 37,\n 38,\n 39,\n 40,\n 41,\n 42,\n 43,\n 44,\n 45,\n 46,\n 47,\n 48,\n 49,\n 50,\n 51,\n 52,\n 53,\n 54,\n 55,\n 56,\n 57,\n 58,\n 59,\n 60,\n 61,\n 62,\n 63,\n 64,\n 65,\n 66,\n 67,\n 68,\n 69,\n 70,\n 71,\n 72,\n 73,\n 74,\n 75,\n 76,\n 77,\n 78,\n 79,\n 80,\n 81,\n 82,\n 83,\n 84,\n 85,\n 86,\n 87,\n 88,\n 89,\n 90,\n 91,\n 92,\n 93,\n 94,\n 95,\n 96,\n 97,\n 98,\n 99,\n 100,\n 101,\n 102,\n 103,\n 104,\n 105,\n 106,\n 107,\n 108,\n 109,\n 110,\n 111,\n 112,\n 113,\n 114,\n 115,\n 116,\n 117,\n 118,\n 119,\n 120,\n 121,\n 122,\n 123,\n 124,\n 125,\n 126,\n 127,\n 128,\n 129,\n 130,\n 131,\n 132,\n 133,\n 134,\n 135,\n 136,\n 137,\n 138,\n 139,\n 140,\n 141,\n 142,\n 143,\n 144,\n 145,\n 146,\n 147,\n 148,\n 149,\n 150,\n 151,\n 152,\n 153,\n 154,\n 155,\n 156,\n 157,\n 158,\n 159,\n 160,\n 161,\n 162,\n 163,\n 164,\n 165,\n 166,\n 167,\n 168,\n 169,\n 170,\n 171,\n 172,\n 173,\n 174,\n 175,\n 176,\n 177,\n 178,\n 179,\n 180,\n 181,\n 182,\n 183,\n 184,\n 185,\n 186,\n 187,\n 188,\n 189,\n 190,\n 191,\n 192,\n 193,\n 194,\n 195,\n 196,\n 197,\n 198,\n 199,\n 200,\n 201,\n 202,\n 203,\n 204,\n 205,\n 206,\n 207,\n 208,\n 209,\n 210,\n 211,\n 212,\n 213,\n 214,\n 215,\n 216,\n 217,\n 218,\n 219,\n 220,\n 221,\n 222,\n 223,\n 224,\n 225,\n 226,\n 227,\n 228,\n 229,\n 230,\n 231,\n 232,\n 233,\n 234,\n 235,\n 236,\n 237,\n 238,\n 239,\n 240,\n 241,\n 242,\n 243,\n 244,\n 245,\n 246,\n 247,\n 248,\n 249,\n 250,\n 251,\n 252,\n 253,\n 254,\n 255,\n 256,\n 257,\n 258,\n 259,\n 260,\n 261,\n 262,\n 263,\n 264,\n 265,\n 266,\n 267,\n 268,\n 269,\n 270,\n 271,\n 272,\n 273,\n 274,\n 275,\n 276,\n 277,\n 278,\n 279,\n 280,\n 281,\n 282,\n 283,\n 284,\n 285,\n 286,\n 287,\n 288,\n 289,\n 290,\n 291,\n 292,\n 293,\n 294,\n 295,\n 296,\n 297,\n 298,\n 299,\n 300,\n 301,\n 302,\n 303,\n 304,\n 305,\n 306,\n 307,\n 308,\n 309,\n 310,\n 311,\n 312,\n 313,\n 314,\n 315,\n 316,\n 317,\n 318,\n 319,\n 320,\n 321,\n 322,\n 323,\n 324,\n 325,\n 326,\n 327,\n 328,\n 329,\n 330,\n 331,\n 332,\n 333,\n 334,\n 335,\n 336,\n 337,\n 338,\n 339,\n 340,\n 341,\n 342,\n 343,\n 344,\n 345,\n 346,\n 347,\n 348,\n 349,\n 350,\n 351,\n 352,\n 353,\n 354,\n 355,\n 356,\n 357,\n 358,\n 359,\n 360,\n 361,\n 362,\n 363,\n 364,\n 365,\n 366,\n 367,\n 368,\n 369,\n 370,\n 371,\n 372,\n 373,\n 374,\n 375,\n 376,\n 377,\n 378,\n 379,\n 380,\n 381,\n 382,\n 383,\n 384,\n 385,\n 386,\n 387,\n 388,\n 389,\n 390,\n 391,\n 392,\n 393,\n 394,\n 395,\n 396,\n 397,\n 398,\n 399,\n 400,\n 401,\n 402,\n 403,\n 404,\n 405,\n 406,\n 407,\n 408,\n 409,\n 410,\n 411,\n 412,\n 413,\n 414,\n 415,\n 416,\n 417,\n 418,\n 419,\n 420,\n 421,\n 422,\n 423,\n 424,\n 425,\n 426,\n 427,\n 428,\n 429,\n 430,\n 431,\n 432,\n 433,\n 434,\n 435,\n 436,\n 437,\n 438,\n 439,\n 440,\n 441,\n 442,\n 443,\n 444,\n 445,\n 446,\n 447,\n 448,\n 449,\n 450,\n 451,\n 452,\n 453,\n 454,\n 455,\n 456,\n 457,\n 458,\n 459,\n 460,\n 461,\n 462,\n 463,\n 464,\n 465,\n 466,\n 467,\n 468,\n 469,\n 470,\n 471,\n 472,\n 473,\n 474,\n 475,\n 476,\n 477,\n 478,\n 479,\n 480,\n 481,\n 482,\n 483,\n 484,\n 485,\n 486,\n 487,\n 488,\n 489,\n 490,\n 491,\n 492,\n 493,\n 494,\n 495,\n 496,\n 497,\n 498,\n 499,\n 500,\n 501,\n 502,\n 503,\n 504,\n 505,\n 506,\n 507,\n 508,\n 509,\n 510,\n 511,\n 512,\n 513,\n 514,\n 515,\n 516,\n 517,\n 518,\n 519,\n 520,\n 521,\n 522,\n 523,\n 524,\n 525,\n 526,\n 527,\n 528,\n 529,\n 530,\n 531,\n 532,\n 533,\n 534,\n 535,\n 536,\n 537,\n 538,\n 539,\n 540,\n 541,\n 542,\n 543,\n 544,\n 545,\n 546,\n 547,\n 548,\n 549,\n 550,\n 551,\n 552,\n 553,\n 554,\n 555,\n 556,\n 557,\n 558,\n 559,\n 560,\n 561,\n 562,\n 563,\n 564,\n 565,\n 566,\n 567,\n 568,\n 569,\n 570,\n 571,\n 572,\n 573,\n 574,\n 575,\n 576,\n 577,\n 578,\n 579,\n 580,\n 581,\n 582,\n 583,\n 584,\n 585,\n 586,\n 587,\n 588,\n 589,\n 590,\n 591,\n 592,\n 593,\n 594,\n 595,\n 596,\n 597,\n 598,\n 599,\n 600,\n 601,\n 602,\n 603,\n 604,\n 605,\n 606,\n 607,\n 608,\n 609,\n 610,\n 611,\n 612,\n 613,\n 614,\n 615,\n 616,\n 617,\n 618,\n 619,\n 620,\n 621,\n 622,\n 623,\n 624,\n 625,\n 626,\n 627,\n 628,\n 629,\n 630,\n 631,\n 632,\n 633,\n 634,\n 635,\n 636,\n 637,\n 638,\n 639,\n 640,\n 641,\n 642,\n 643,\n 644,\n 645,\n 646,\n 647,\n 648,\n 649,\n 650,\n 651,\n 652,\n 653,\n 654,\n 655,\n 656,\n 657,\n 658,\n 659,\n 660,\n 661,\n 662,\n 663,\n 664,\n 665,\n 666,\n 667,\n 668,\n 669,\n 670,\n 671,\n 672,\n 673,\n 674,\n 675,\n 676,\n 677,\n 678,\n 679,\n 680,\n 681,\n 682,\n 683,\n 684,\n 685,\n 686,\n 687,\n 688,\n 689,\n 690,\n 691,\n 692,\n 693,\n 694,\n 695,\n 696,\n 697,\n 698,\n 699,\n 700,\n 701,\n 702,\n 703,\n 704,\n 705,\n 706,\n 707,\n 708,\n 709,\n 710,\n 711,\n 712,\n 713,\n 714,\n 715,\n 716,\n 717,\n 718,\n 719,\n 720,\n 721,\n 722,\n 723,\n 724,\n 725,\n 726,\n 727,\n 728,\n 729,\n 730,\n 731,\n 732,\n 733,\n 734,\n 735,\n 736,\n 737,\n 738,\n 739,\n 740,\n 741,\n 742,\n 743,\n 744,\n 745,\n 746,\n 747,\n 748,\n 749,\n 750,\n 751,\n 752,\n 753,\n 754,\n 755,\n 756,\n 757,\n 758,\n 759,\n 760,\n 761,\n 762,\n 763,\n 764,\n 765,\n 766,\n 767,\n 768,\n 769,\n 770,\n 771,\n 772,\n 773,\n 774,\n 775,\n 776,\n 777,\n 778,\n 779,\n 780,\n 781,\n 782,\n 783,\n 784,\n 785,\n 786,\n 787,\n 788,\n 789,\n 790,\n 791,\n 792,\n 793,\n 794,\n 795,\n 796,\n 797,\n 798,\n 799,\n 800,\n 801,\n 802,\n 803,\n 804,\n 805,\n 806,\n 807,\n 808,\n 809,\n 810,\n 811,\n 812,\n 813,\n 814,\n 815,\n 816,\n 817,\n 818,\n 819,\n 820,\n 821,\n 822,\n 823,\n 824,\n 825,\n 826,\n 827,\n 828,\n 829,\n 830,\n 831,\n 832,\n 833,\n 834,\n 835,\n 836,\n 837,\n 838,\n 839,\n 840,\n 841,\n 842,\n 843,\n 844,\n 845,\n 846,\n 847,\n 848,\n 849,\n 850,\n 851,\n 852,\n 853,\n 854,\n 855,\n 856,\n 857,\n 858,\n 859,\n 860,\n 861,\n 862,\n 863,\n 864,\n 865,\n 866,\n 867,\n 868,\n 869,\n 870,\n 871,\n 872,\n 873,\n 874,\n 875,\n 876,\n 877,\n 878,\n 879,\n 880,\n 881,\n 882,\n 883,\n 884,\n 885,\n 886,\n 887,\n 888,\n 889,\n 890,\n 891,\n 892,\n 893,\n 894,\n 895,\n 896,\n 897,\n 898,\n 899,\n 900,\n 901,\n 902,\n 903,\n 904,\n 905,\n 906,\n 907,\n 908,\n 909,\n 910,\n 911,\n 912,\n 913,\n 914,\n 915,\n 916,\n 917,\n 918,\n 919,\n 920,\n 921,\n 922,\n 923,\n 924,\n 925,\n 926,\n 927,\n 928,\n 929,\n 930,\n 931,\n 932,\n 933,\n 934,\n 935,\n 936,\n 937,\n 938,\n 939,\n 940,\n 941,\n 942,\n 943,\n 944,\n 945,\n 946,\n 947,\n 948,\n 949,\n 950,\n 951,\n 952,\n 953,\n 954,\n 955,\n 956,\n 957,\n 958,\n 959,\n 960,\n 961,\n 962,\n 963,\n 964,\n 965,\n 966,\n 967,\n 968,\n 969,\n 970,\n 971,\n 972,\n 973,\n 974,\n 975,\n 976,\n 977,\n 978,\n 979,\n 980,\n 981,\n 982,\n 983,\n 984,\n 985,\n 986,\n 987,\n 988,\n 989,\n 990,\n 991,\n 992,\n 993,\n 994,\n 995,\n 996,\n 997,\n 998,\n 999]"
     },
     "execution_count": 21,
     "metadata": {},
     "output_type": "execute_result"
    }
   ],
   "source": [
    "def radix_sort(li):\n",
    "    max_num=max(li)\n",
    "    it=0\n",
    "    while 10 ** it <= max_num:\n",
    "        buckets=[[] for i in range(10)]\n",
    "        for var in li:\n",
    "            digit=(var//10**it)%10\n",
    "            buckets[digit].append(var)\n",
    "        li.clear()\n",
    "        for buc in buckets:\n",
    "            li.extend(buc)\n",
    "        it+=1\n",
    "    return li\n",
    "li=[i for i in range(1000)]\n",
    "random.shuffle(li)\n",
    "radix_sort(li)"
   ],
   "metadata": {
    "collapsed": false
   }
  },
  {
   "cell_type": "code",
   "execution_count": 22,
   "outputs": [],
   "source": [
    "class Stack:\n",
    "    def __init__(self):\n",
    "        self.stack=[]\n",
    "    def push(self,element):\n",
    "        self.stack.append(element)\n",
    "    def pop(self):\n",
    "        return self.stack.pop()\n",
    "    def gettop(self):\n",
    "        if len(self.stack):\n",
    "            return self.stack[-1]\n",
    "        else:\n",
    "            return None\n",
    "    def is_empty(self):\n",
    "        return len(self.stack)==0\n",
    "\n",
    "stack=Stack()\n",
    "stack.gettop()"
   ],
   "metadata": {
    "collapsed": false
   }
  },
  {
   "cell_type": "code",
   "execution_count": 23,
   "outputs": [
    {
     "data": {
      "text/plain": "2"
     },
     "execution_count": 23,
     "metadata": {},
     "output_type": "execute_result"
    }
   ],
   "source": [
    "stack.push(2)\n",
    "stack.pop()"
   ],
   "metadata": {
    "collapsed": false
   }
  },
  {
   "cell_type": "code",
   "execution_count": 24,
   "outputs": [
    {
     "data": {
      "text/plain": "True"
     },
     "execution_count": 24,
     "metadata": {},
     "output_type": "execute_result"
    }
   ],
   "source": [
    "#brace_match\n",
    "match={'}':'{',']':'[',')':'('}\n",
    "def brace_match(s):\n",
    "    stack=Stack()\n",
    "    for ch in s:\n",
    "        if ch in {'(','[','{'}:\n",
    "            stack.push(ch)\n",
    "        else:\n",
    "            if stack.is_empty():\n",
    "                return False\n",
    "            elif stack.gettop() ==match[ch]:\n",
    "                stack.pop()\n",
    "            else:\n",
    "                return False\n",
    "    if stack.is_empty():\n",
    "        return True\n",
    "    else:\n",
    "        return False\n",
    "\n",
    "brace_match(\"[][()]\")"
   ],
   "metadata": {
    "collapsed": false
   }
  },
  {
   "cell_type": "code",
   "execution_count": 25,
   "outputs": [
    {
     "name": "stdout",
     "output_type": "stream",
     "text": [
      "True\n",
      "0\n"
     ]
    }
   ],
   "source": [
    "#queue\n",
    "class Queue:\n",
    "    def __init__(self,size=10):\n",
    "        self.queue=[0 for i in range(size)]\n",
    "        self.rear=0\n",
    "        self.front=0\n",
    "        self.size=size\n",
    "    def push(self,element):\n",
    "        if not self.is_full():\n",
    "            self.rear=(self.rear+1)%self.size\n",
    "            self.queue[self.rear]=element\n",
    "        else:\n",
    "            raise IndexError('error1')\n",
    "    def pop(self):\n",
    "        if not self.is_empty():\n",
    "            self.front=(self.front+1)%self.size\n",
    "            return self.queue[self.front]\n",
    "        else:\n",
    "            raise IndexError('error2')\n",
    "    def is_empty(self):\n",
    "        return self.rear==self.front\n",
    "    def is_full(self):\n",
    "        return (self.rear+1)%self.size==self.front\n",
    "\n",
    "q=Queue()\n",
    "for i in range(9):\n",
    "    q.push(i)\n",
    "print(q.is_full())\n",
    "print(q.pop())"
   ],
   "metadata": {
    "collapsed": false
   }
  },
  {
   "cell_type": "code",
   "execution_count": 26,
   "outputs": [
    {
     "data": {
      "text/plain": "3"
     },
     "execution_count": 26,
     "metadata": {},
     "output_type": "execute_result"
    }
   ],
   "source": [
    "from collections import  deque\n",
    "q=deque([1,2,3],5)\n",
    "q.append(4)\n",
    "q.append(4)\n",
    "q.append(4)\n",
    "q.append(4)\n",
    "q.popleft()"
   ],
   "metadata": {
    "collapsed": false
   }
  },
  {
   "cell_type": "code",
   "execution_count": 27,
   "outputs": [
    {
     "name": "stdout",
     "output_type": "stream",
     "text": [
      "(1, 1)\n",
      "(2, 1)\n",
      "(3, 1)\n",
      "(3, 2)\n",
      "(4, 2)\n",
      "(4, 3)\n",
      "(4, 4)\n",
      "(5, 4)\n",
      "(5, 5)\n"
     ]
    },
    {
     "data": {
      "text/plain": "True"
     },
     "execution_count": 27,
     "metadata": {},
     "output_type": "execute_result"
    }
   ],
   "source": [
    "maze1=[\n",
    "    [1,1,1,1,1,1,1],\n",
    "    [1,0,0,0,0,0,1],\n",
    "    [1,0,1,1,1,0,1],\n",
    "    [1,0,0,1,0,0,1],\n",
    "    [1,1,0,0,0,1,1],\n",
    "    [1,1,1,1,0,0,1],\n",
    "    [1,1,1,1,1,1,1]\n",
    "      ]\n",
    "dirs=[\n",
    "    lambda x,y:(x+1,y),\n",
    "    lambda x,y:(x-1,y),\n",
    "    lambda x,y:(x,y+1),\n",
    "    lambda x,y:(x,y-1)\n",
    "]\n",
    "def maze_path(maze,x1,y1,x2,y2):\n",
    "    stack=[]\n",
    "    stack.append((x1,y1))\n",
    "    while len(stack)>0:\n",
    "        curNode=stack[-1]\n",
    "        if curNode[0]==x2 and curNode[1]==y2:\n",
    "            for p in stack:\n",
    "                print(p)\n",
    "            return True\n",
    "        for dir in dirs:\n",
    "            nextNode=dir(curNode[0],curNode[1])\n",
    "            if maze[nextNode[0]][nextNode[1]]==0:\n",
    "                stack.append(nextNode)\n",
    "                maze[nextNode[0]][nextNode[1]]=2\n",
    "                break\n",
    "        else:\n",
    "            stack.pop()\n",
    "    else:\n",
    "        return False\n",
    "\n",
    "maze_path(maze1,1,1,5,5)"
   ],
   "metadata": {
    "collapsed": false
   }
  },
  {
   "cell_type": "code",
   "execution_count": 1,
   "outputs": [
    {
     "ename": "NameError",
     "evalue": "name 'deque' is not defined",
     "output_type": "error",
     "traceback": [
      "\u001B[1;31m---------------------------------------------------------------------------\u001B[0m",
      "\u001B[1;31mNameError\u001B[0m                                 Traceback (most recent call last)",
      "Input \u001B[1;32mIn [1]\u001B[0m, in \u001B[0;36m<cell line: 45>\u001B[1;34m()\u001B[0m\n\u001B[0;32m     42\u001B[0m     \u001B[38;5;28;01melse\u001B[39;00m:\n\u001B[0;32m     43\u001B[0m         \u001B[38;5;28;01mreturn\u001B[39;00m \u001B[38;5;28;01mFalse\u001B[39;00m\n\u001B[1;32m---> 45\u001B[0m \u001B[43mmaze_match_queue\u001B[49m\u001B[43m(\u001B[49m\u001B[43mmaze2\u001B[49m\u001B[43m,\u001B[49m\u001B[38;5;241;43m1\u001B[39;49m\u001B[43m,\u001B[49m\u001B[38;5;241;43m1\u001B[39;49m\u001B[43m,\u001B[49m\u001B[38;5;241;43m5\u001B[39;49m\u001B[43m,\u001B[49m\u001B[38;5;241;43m5\u001B[39;49m\u001B[43m)\u001B[49m\n",
      "Input \u001B[1;32mIn [1]\u001B[0m, in \u001B[0;36mmaze_match_queue\u001B[1;34m(maze, x1, y1, x2, y2)\u001B[0m\n\u001B[0;32m     26\u001B[0m \u001B[38;5;28;01mdef\u001B[39;00m \u001B[38;5;21mmaze_match_queue\u001B[39m(maze,x1,y1,x2,y2):\n\u001B[1;32m---> 27\u001B[0m     queue\u001B[38;5;241m=\u001B[39m\u001B[43mdeque\u001B[49m()\n\u001B[0;32m     28\u001B[0m     path\u001B[38;5;241m=\u001B[39m[]\n\u001B[0;32m     29\u001B[0m     queue\u001B[38;5;241m.\u001B[39mappend((x1,y1,\u001B[38;5;241m-\u001B[39m\u001B[38;5;241m1\u001B[39m))\n",
      "\u001B[1;31mNameError\u001B[0m: name 'deque' is not defined"
     ]
    }
   ],
   "source": [
    "maze2=[\n",
    "    [1,1,1,1,1,1,1],\n",
    "    [1,0,0,0,0,0,1],\n",
    "    [1,0,1,1,1,0,1],\n",
    "    [1,0,0,1,0,0,1],\n",
    "    [1,1,0,0,0,1,1],\n",
    "    [1,1,1,1,0,0,1],\n",
    "    [1,1,1,1,1,1,1]\n",
    "      ]\n",
    "dirs=[\n",
    "    lambda x,y:(x+1,y),\n",
    "    lambda x,y:(x-1,y),\n",
    "    lambda x,y:(x,y+1),\n",
    "    lambda x,y:(x,y-1)\n",
    "]\n",
    "def path_list(path):\n",
    "    curNode=path[-1]\n",
    "    realpath=[]\n",
    "    while curNode[2]!=-1:\n",
    "        realpath.append([curNode[0],curNode[1]])\n",
    "        curNode=path[curNode[2]]\n",
    "    realpath.append(curNode[0:2])\n",
    "    realpath.reverse()\n",
    "    for n in realpath:\n",
    "        print(n)\n",
    "def maze_match_queue(maze,x1,y1,x2,y2):\n",
    "    queue=deque()\n",
    "    path=[]\n",
    "    queue.append((x1,y1,-1))\n",
    "    while len(queue)>0:\n",
    "        curNode=queue.popleft()\n",
    "        path.append(curNode)\n",
    "        if curNode[0]==x2 and curNode[1]==y2:\n",
    "            path_list(path)\n",
    "            print(\"找到路径\")\n",
    "            return True\n",
    "        for dir in dirs:\n",
    "            nextNode=dir(curNode[0],curNode[1])\n",
    "            if maze[nextNode[0]][nextNode[1]]==0:\n",
    "                queue.append([nextNode[0],nextNode[1],len(path)-1])\n",
    "                maze[nextNode[0]][nextNode[1]]=2\n",
    "    else:\n",
    "        return False\n",
    "\n",
    "maze_match_queue(maze2,1,1,5,5)\n",
    "\n"
   ],
   "metadata": {
    "collapsed": false
   }
  },
  {
   "cell_type": "code",
   "execution_count": null,
   "outputs": [],
   "source": [
    "class LinkList:\n",
    "    class Node:\n",
    "        def __init__(self,item=None):\n",
    "            self.item=item\n",
    "            self.next=None\n",
    "    class LinkListyIterator:\n",
    "        def __init__(self,node):\n",
    "            self.node=node\n",
    "        def __next__(self):\n",
    "            if self.node:\n",
    "                cure_node=self.node\n",
    "                self.node=cure_node.next\n",
    "                return cure_node.item\n",
    "            else:\n",
    "                raise StopIteration\n",
    "        def __iter__(self):\n",
    "            return self\n",
    "    def __init__(self,iterable=None):\n",
    "        self.head=None\n",
    "        self.tail=None\n",
    "        if iterable:\n",
    "            self.extend(iterable)\n",
    "    def append(self,obj):\n",
    "        s=LinkList.Node(obj)\n",
    "        if not self.head:\n",
    "            self.head=s\n",
    "            self.tail=s\n",
    "        else:\n",
    "            self.tail.next=s\n",
    "            self.tail=s\n",
    "    def extend(self,iterable):\n",
    "        for obj in iterable:\n",
    "            self.append(obj)\n",
    "    def find(self, obj):\n",
    "        for n in self:\n",
    "            if n==obj:\n",
    "                return True\n",
    "            else:\n",
    "                return False\n",
    "    def __iter__(self):\n",
    "        return self.LinkListyIterator(self.head)\n",
    "    def __repr__(self):\n",
    "        return \"<<\"+\",\".join(map(str,self))+\">>\"\n",
    "\n",
    "class HashTable:\n",
    "    def __init__(self, size=101):\n",
    "        self.size = size\n",
    "        self.T = [LinkList() for i in range(self.size)]\n",
    "\n",
    "    def h(self, k):\n",
    "        return k % self.size\n",
    "\n",
    "    def find(self, k):\n",
    "        i = self.h(k)\n",
    "        return self.T[i].find(k)\n",
    "\n",
    "    def insert(self, k):\n",
    "        i = self.h(k)\n",
    "        if self.find(k):\n",
    "            print(\"error\")\n",
    "        else:\n",
    "            self.T[i].append(k)\n",
    "ht=HashTable()\n",
    "ht.insert(103)\n",
    "ht.insert(1)\n",
    "ht.insert(102)\n",
    "\n",
    "print(\",\".join(map(str,ht.T)))"
   ],
   "metadata": {
    "collapsed": false
   }
  },
  {
   "cell_type": "code",
   "execution_count": 1,
   "outputs": [
    {
     "name": "stdout",
     "output_type": "stream",
     "text": [
      "c\n"
     ]
    }
   ],
   "source": [
    "from collections import deque\n",
    "class BITreeNode:\n",
    "    def __init__(self,data):\n",
    "        self.data=data\n",
    "        self.lchild=None\n",
    "        self.rchild=None\n",
    "        self.parent=None\n",
    "\n",
    "a=BITreeNode('a')\n",
    "b=BITreeNode('b')\n",
    "c=BITreeNode('c')\n",
    "d=BITreeNode('d')\n",
    "e=BITreeNode('e')\n",
    "f=BITreeNode('f')\n",
    "g=BITreeNode('g')\n",
    "\n",
    "e.lchild=a\n",
    "e.rchild=g\n",
    "a.rchild=c\n",
    "c.lchild=b\n",
    "c.rchild=d\n",
    "g.rchild=f\n",
    "root=e\n",
    "\n",
    "\n",
    "print(root.lchild.rchild.data)"
   ],
   "metadata": {
    "collapsed": false
   }
  },
  {
   "cell_type": "code",
   "execution_count": 4,
   "outputs": [
    {
     "name": "stdout",
     "output_type": "stream",
     "text": [
      "e\n",
      "a\n",
      "c\n",
      "b\n",
      "d\n",
      "g\n",
      "f\n"
     ]
    }
   ],
   "source": [
    "def pre_order(root):\n",
    "    if root:\n",
    "        print(root.data)\n",
    "        pre_order(root.lchild)\n",
    "        pre_order(root.rchild)\n",
    "pre_order(root)"
   ],
   "metadata": {
    "collapsed": false
   }
  },
  {
   "cell_type": "code",
   "execution_count": 5,
   "outputs": [
    {
     "name": "stdout",
     "output_type": "stream",
     "text": [
      "a\n",
      "c\n",
      "b\n",
      "d\n",
      "e\n",
      "g\n",
      "f\n"
     ]
    }
   ],
   "source": [
    "def in_order(root):\n",
    "     if root:\n",
    "        pre_order(root.lchild)\n",
    "        print(root.data)\n",
    "        pre_order(root.rchild)\n",
    "in_order(root)"
   ],
   "metadata": {
    "collapsed": false
   }
  },
  {
   "cell_type": "code",
   "execution_count": null,
   "outputs": [],
   "source": [
    "def post_order(root):\n",
    "     if root:\n",
    "        pre_order(root.lchild)\n",
    "        pre_order(root.rchild)\n",
    "        print(root)\n",
    "post_order(root)"
   ],
   "metadata": {
    "collapsed": false
   }
  },
  {
   "cell_type": "code",
   "execution_count": 10,
   "outputs": [
    {
     "name": "stdout",
     "output_type": "stream",
     "text": [
      "e\n",
      "a\n",
      "g\n",
      "c\n",
      "f\n",
      "b\n",
      "d\n"
     ]
    }
   ],
   "source": [
    "from collections import deque\n",
    "def level_order(root):\n",
    "    q=deque()\n",
    "    q.append(root)\n",
    "    while len(q)>0:\n",
    "        node=q.popleft()\n",
    "        print(node.data)\n",
    "        if node.lchild:\n",
    "            q.append(node.lchild)\n",
    "        if node.rchild:\n",
    "            q.append(node.rchild)\n",
    "level_order(root)"
   ],
   "metadata": {
    "collapsed": false
   }
  },
  {
   "cell_type": "code",
   "execution_count": 21,
   "outputs": [
    {
     "name": "stdout",
     "output_type": "stream",
     "text": [
      "3\n",
      "2\n",
      "7\n",
      "6\n",
      "9\n",
      "8\n",
      "5\n",
      "4\n",
      "1\n",
      "\n",
      "\n",
      "1\n",
      "2\n",
      "3\n",
      "4\n",
      "5\n",
      "6\n",
      "7\n",
      "8\n",
      "9\n",
      "\n",
      "\n",
      "1\n",
      "4\n",
      "2\n",
      "3\n",
      "5\n",
      "8\n",
      "6\n",
      "7\n",
      "9\n",
      "\n",
      "\n",
      "1\n",
      "4\n",
      "2\n",
      "5\n",
      "3\n",
      "8\n",
      "6\n",
      "9\n",
      "7\n",
      "\n",
      "\n",
      "不存在\n",
      "1\n",
      "2\n",
      "3\n",
      "4\n",
      "5\n",
      "6\n",
      "7\n",
      "8\n",
      "9\n"
     ]
    }
   ],
   "source": [
    "from collections import deque\n",
    "class BITreeNode:\n",
    "    def __init__(self,data):\n",
    "        self.data=data\n",
    "        self.lchild=None\n",
    "        self.rchild=None\n",
    "        self.parent=None\n",
    "class BST:\n",
    "    def __init__(self,li):\n",
    "        self.root=None\n",
    "        if li:\n",
    "            for i in li:\n",
    "                self.insert_no_sec(i)\n",
    "    def insert(self,node,val):\n",
    "        if not node:\n",
    "            node=BITreeNode(val)\n",
    "        elif val>node.data:\n",
    "            node.lchild=self.insert(node.lchild,val)\n",
    "            node.lchild.parent=node\n",
    "        elif val<node.data:\n",
    "            node.rchild=self.insert(node.rchild,val)\n",
    "            node.rchild.parent=node\n",
    "        return node\n",
    "    def insert_no_sec(self,val):\n",
    "\n",
    "        if not self.root:\n",
    "            self.root=BITreeNode(val)\n",
    "            return  self.root\n",
    "        p=self.root;\n",
    "        while p:\n",
    "            if val<p.data:\n",
    "                if p.lchild:\n",
    "                    p=p.lchild\n",
    "                else:\n",
    "                    p.lchild=BITreeNode(val)\n",
    "                    p.lchild.parent=p\n",
    "                    return\n",
    "            elif val>p.data:\n",
    "                if p.rchild:\n",
    "                    p=p.rchild\n",
    "                else:\n",
    "                    p.rchild=BITreeNode(val)\n",
    "                    p.rchild.parent=p\n",
    "                    return\n",
    "            else:\n",
    "                return\n",
    "    def pre_order(self,root):\n",
    "        if root:\n",
    "            print(root.data)\n",
    "            self.pre_order(root.lchild)\n",
    "            self.pre_order(root.rchild)\n",
    "\n",
    "    def in_order(self,root):\n",
    "        if root:\n",
    "            self.in_order(root.lchild)\n",
    "            print(root.data)\n",
    "            self.in_order(root.rchild)\n",
    "    def post_order(self,root):\n",
    "        if root:\n",
    "            self.post_order(root.lchild)\n",
    "            self.post_order(root.rchild)\n",
    "            print(root.data)\n",
    "    def level_order(self):\n",
    "        q=deque()\n",
    "        if self.root:\n",
    "            q.append(self.root)\n",
    "        while q:\n",
    "            node=q.popleft()\n",
    "            print(node.data)\n",
    "            if node.lchild:\n",
    "                q.append(node.lchild)\n",
    "            if node.rchild:\n",
    "                q.append(node.rchild)\n",
    "    def query(self,node,val):\n",
    "        if not self.root:\n",
    "            return None\n",
    "        if val >node.data:\n",
    "            self.query(node.lchild,val)\n",
    "        elif val>node.data:\n",
    "            self.query(node.rchild,val)\n",
    "        else:\n",
    "            return node\n",
    "    def query_no_rec(self,val):\n",
    "        p=self.root\n",
    "        while p:\n",
    "            if p.data<val:\n",
    "                p=p.rchild\n",
    "            elif p.data>val:\n",
    "                p=p.lchild\n",
    "            else:\n",
    "                return p\n",
    "        else:\n",
    "            return None\n",
    "    def __remove_node_1(self,node):\n",
    "        if not node.parent:\n",
    "            self.root=None\n",
    "        else:\n",
    "            if node == node.parent.lchild:\n",
    "                node.parent.lchild=None\n",
    "            elif node == node.parent.rchild:\n",
    "                node.parent.rchild=None\n",
    "    def __remove_node_21(self,node):#node只有一个左孩子\n",
    "        if not node.parent:\n",
    "            self.root=node.lchild\n",
    "            node.parent=None\n",
    "        elif node == node.parent.lchild:\n",
    "            node.parent.lchild=node.lchild\n",
    "            node.lchild.parent=node.parent\n",
    "        elif node == node.parent.rchild:\n",
    "            node.parent.lchild=node.lchild\n",
    "            node.lchild.parent=node.parent\n",
    "    def __remove_node_22(self,node):#node只有一个右孩子\n",
    "        if not node.parent:\n",
    "            self.root=node.rchild\n",
    "        elif node==node.parent.lchild:\n",
    "            node.parent.lchild=node.rchild\n",
    "            node.rchild.parent=node.parent\n",
    "        elif node==node.parent.rchild:\n",
    "            node.parent.rchild=node.rchild\n",
    "            node.rchild.parent=node.parent\n",
    "    def delete(self,val):\n",
    "        if  self.root:\n",
    "            node=self.query_no_rec(val)\n",
    "            if  not node:\n",
    "                print(\"不存在\")\n",
    "                return None\n",
    "            if not node.lchild and not node.rchild:\n",
    "                self.__remove_node_1(node)\n",
    "            elif not node.rchild:\n",
    "                self.__remove_node_21(node)\n",
    "            elif not node.lchild:\n",
    "                self.__remove_node_22(node)\n",
    "            else:\n",
    "                min_node=node.rchild\n",
    "                while min_node.lchild:\n",
    "                    min_node=min_node.lchild\n",
    "                node.data=min_node.data\n",
    "                if min_node.rchild:\n",
    "                    self.__remove_node_22(min_node)\n",
    "                else:\n",
    "                    self.__remove_node_1(min_node)\n",
    "tree=BST([1,4,2,5,3,8,6,9,7])\n",
    "tree.pre_order(tree.root)\n",
    "print(\"\\n\")\n",
    "tree.in_order(tree.root)\n",
    "print(\"\\n\")\n",
    "tree.post_order(tree.root)\n",
    "print(\"\\n\")\n",
    "tree.level_order()\n",
    "tree.query_no_rec(31)\n",
    "print(\"\\n\")\n",
    "tree.delete(11)\n",
    "tree.in_order(tree.root)"
   ],
   "metadata": {
    "collapsed": false
   }
  },
  {
   "cell_type": "code",
   "execution_count": 1,
   "outputs": [
    {
     "name": "stdout",
     "output_type": "stream",
     "text": [
      "4\n",
      "2\n",
      "1\n",
      "3\n",
      "8\n",
      "6\n",
      "5\n",
      "7\n",
      "9\n",
      "10\n",
      "4\n",
      "2\n",
      "8\n",
      "1\n",
      "3\n",
      "6\n",
      "9\n",
      "5\n",
      "7\n",
      "10\n"
     ]
    }
   ],
   "source": [
    "from collections import deque\n",
    "class bitnode:\n",
    "    def __init__(self,data=None):\n",
    "        self.data=data\n",
    "        self.lchild=None\n",
    "        self.rchild=None\n",
    "        self.parent=None\n",
    "        self.bf=0;\n",
    "class AVLtree:\n",
    "    def __init__(self,l):\n",
    "        self.root=None\n",
    "        for i in l:\n",
    "            self.insert(i)\n",
    "    def pre_order(self,root):\n",
    "        if root:\n",
    "            print(root.data)\n",
    "            self.pre_order(root.lchild)\n",
    "            self.pre_order(root.rchild)\n",
    "    def in_order(self,root):\n",
    "        if root:\n",
    "            self.in_order(root.lchild)\n",
    "            print(root.data)\n",
    "            self.in_order(root.rchild)\n",
    "    def post_order(self,root):\n",
    "        if root:\n",
    "            self.post_order(root.lchild)\n",
    "            self.post_order(root.rchild)\n",
    "            print(root.data)\n",
    "    def level_order(self):\n",
    "        q=deque()\n",
    "        q.append(self.root)\n",
    "        while len(q):\n",
    "            a=q.popleft()\n",
    "            print(a.data)\n",
    "            if a.lchild:\n",
    "                q.append(a.lchild)\n",
    "            if a.rchild:\n",
    "                q.append(a.rchild)\n",
    "    def query(self,data):\n",
    "        p=self.root\n",
    "        while p:\n",
    "            if p.data<data:\n",
    "                p=p.lchild\n",
    "            elif p.data>data:\n",
    "                p=p.rchild\n",
    "            else:\n",
    "                print(\"find\")\n",
    "                return p\n",
    "        print(\"not find\")\n",
    "        return None\n",
    "    def rotate_right(self,p,c):\n",
    "        s2=c.rchild\n",
    "        p.lchild=s2\n",
    "        if s2:\n",
    "            s2.parent=p\n",
    "        c.rchild=p\n",
    "        p.parent=c\n",
    "        c.bf=0\n",
    "        p.bf=0\n",
    "        return c\n",
    "    def rotate_left(self,p,c):\n",
    "        s3=c.lchild\n",
    "        p.rchild=s3\n",
    "        if s3:\n",
    "            s3.parent=p\n",
    "        c.lchild=p\n",
    "        p.parent=c\n",
    "        c.bf=0\n",
    "        p.bf=0\n",
    "        return c\n",
    "    def rotate_right_left(self,p,c):\n",
    "        g=c.lchild\n",
    "        s3=g.rchild\n",
    "        c.lchild=s3\n",
    "        if s3:\n",
    "            s3.parent=c\n",
    "        c.parent=g\n",
    "        g.rchild=c\n",
    "        s2=g.rchild\n",
    "        p.rchild=s2\n",
    "        if s2:\n",
    "            s2.parent=p\n",
    "        p.parent=g\n",
    "        g.lchild=p\n",
    "        if g.bf>0:\n",
    "            c.bf=0\n",
    "            p.bf=-1\n",
    "        elif g.bf<0:\n",
    "            p.bf=0;\n",
    "            c.bf=1\n",
    "        else:\n",
    "            p.bf=0\n",
    "            c.bf=0\n",
    "        g.bf=0\n",
    "        return g\n",
    "    def rotate_left_right(self,p,c):\n",
    "        g=c.rchild\n",
    "        s2=g.lchild\n",
    "        if s2:\n",
    "            s2.parent=c\n",
    "        c.parent=g\n",
    "        g.lchild=c\n",
    "        s3=g.rchild\n",
    "        if s3:\n",
    "            s3.parent=p\n",
    "        p.parent=g\n",
    "        g.rchild=p\n",
    "        if g.bf>0:\n",
    "            c.bf=0\n",
    "            p.bf=1\n",
    "        elif g.bf<0:\n",
    "            c.bf=-1\n",
    "            p.bf=0\n",
    "        else:\n",
    "            c.bf=0\n",
    "            p.bf=0\n",
    "        g.bf=0\n",
    "        return g\n",
    "    def insert(self,data):\n",
    "        if not self.root:\n",
    "            self.root=bitnode(data)\n",
    "            return\n",
    "        p=self.root\n",
    "        while p:\n",
    "            if data<p.data:\n",
    "                if p.lchild:\n",
    "                    p=p.lchild\n",
    "                else:\n",
    "                    p.lchild=bitnode(data)\n",
    "                    p.lchild.parent=p\n",
    "                    node=p.lchild\n",
    "                    break\n",
    "            else:\n",
    "                if p.rchild:\n",
    "                    p=p.rchild\n",
    "                else:\n",
    "                    p.rchild=bitnode(data)\n",
    "                    p.rchild.parent=p\n",
    "                    node=p.rchild\n",
    "                    break\n",
    "        while node.parent:\n",
    "            g=node.parent.parent\n",
    "            x=node.parent\n",
    "            if node.parent.lchild==node:\n",
    "                if node.parent.bf>0:\n",
    "                    node.parent.bf=0\n",
    "                    break\n",
    "                elif node.parent.bf==0:\n",
    "                    node.parent.bf=-1\n",
    "                    node=node.parent\n",
    "                    continue\n",
    "                else:\n",
    "                    if node.bf>0:\n",
    "                        n=self.rotate_left_right(node.parent,node)\n",
    "                    else:\n",
    "                        n=self.rotate_right(node.parent,node)\n",
    "            else:\n",
    "                if node.parent.bf<0:\n",
    "                    node.parent.bf=0\n",
    "                    break\n",
    "                elif node.parent.bf==0:\n",
    "                    node.parent.bf=1\n",
    "                    node=node.parent\n",
    "                    continue\n",
    "                else:\n",
    "                    if node.bf>0:\n",
    "                        n=self.rotate_left(node.parent,node)\n",
    "                    else:\n",
    "                        n=self.rotate_right_left(node.parent, node)\n",
    "            n.parent = g\n",
    "            if g:\n",
    "                if x==g.lchild:\n",
    "                    g.lchild=n\n",
    "                else:\n",
    "                    g.rchild=n\n",
    "                break\n",
    "            else:\n",
    "                self.root=n\n",
    "                break\n",
    "\n",
    "tree=AVLtree([1,2,3,4,5,6,7,8,9,10])\n",
    "tree.pre_order(tree.root)\n",
    "tree.level_order()"
   ],
   "metadata": {
    "collapsed": false
   }
  },
  {
   "cell_type": "code",
   "execution_count": 35,
   "outputs": [
    {
     "data": {
      "text/plain": "{2: 1, 3: 1}"
     },
     "execution_count": 35,
     "metadata": {},
     "output_type": "execute_result"
    }
   ],
   "source": [
    "class vertex_node:\n",
    "    def __init__(self,data):\n",
    "        self.data=data\n",
    "        self.connectto={}\n",
    "    def add_connect(self,node,weight=0):\n",
    "        self.connectto[node]=weight\n",
    "    def __str__(self):\n",
    "        return str(self.data)+' connectto: '+ str([x for x,in self.connectto])\n",
    "    def getConnects(self):\n",
    "        return self.connectto.keys()\n",
    "    def getWeight(self,node):\n",
    "        return self.connectto[node]\n",
    "    def getData(self):\n",
    "        return  self.data\n",
    "class Graph:\n",
    "    def __init__(self):\n",
    "        self.vert_list={}\n",
    "        self.num=0\n",
    "    def addVertex(self,key):\n",
    "        self.num+=1\n",
    "        newNode=vertex_node(key)\n",
    "        self.vert_list[key]=newNode\n",
    "        return newNode\n",
    "    def addEdge(self,fromvert,tovert,weight):\n",
    "        if fromvert not in self.vert_list:\n",
    "            nv=self.addVertex(fromvert)\n",
    "        if tovert not in self.vert_list:\n",
    "            nv=self.addVertex(tovert)\n",
    "        self.vert_list[fromvert].add_connect(tovert,weight)\n",
    "    def getVertex(self,key):\n",
    "        if key in self.vert_list:\n",
    "            return self.vert_list[key]\n",
    "        else:\n",
    "            return None\n",
    "    def getVertices(self):\n",
    "        return self.vert_list.keys()\n",
    "    def __iter__(self):\n",
    "        return iter(self.vert_list.values())\n",
    "    def __contains__(self, f):\n",
    "        return f in self.vert_list\n",
    "\n",
    "g=Graph()\n",
    "g.addVertex(1)\n",
    "g.addVertex(2)\n",
    "g.addVertex(3)\n",
    "g.addVertex(4)\n",
    "g.addVertex(5)\n",
    "g.addVertex(6)\n",
    "g.addVertex(7)\n",
    "g.addVertex(8)\n",
    "\n",
    "\n",
    "g.addEdge(1,2,1)\n",
    "g.addEdge(1,3,1)\n",
    "g.addEdge(2,4,1)\n",
    "g.addEdge(2,7,1)\n",
    "g.addEdge(3,4,1)\n",
    "g.addEdge(4,5,1)\n",
    "g.addEdge(5,6,1)\n",
    "g.addEdge(5,7,1)\n",
    "g.addEdge(6,8,1)\n",
    "g.addEdge(7,8,1)\n",
    "g.getVertex(1).connectto"
   ],
   "metadata": {
    "collapsed": false
   }
  },
  {
   "cell_type": "code",
   "execution_count": 34,
   "outputs": [
    {
     "name": "stdout",
     "output_type": "stream",
     "text": [
      "[(1, -1), (2, 1)]\n",
      "[(1, -1), (2, 1), (3, 1)]\n"
     ]
    }
   ],
   "source": [
    "from collections import deque\n",
    "def bfs(start,end,g):\n",
    "    q=deque()\n",
    "    path=[]\n",
    "    node=g.getVertex(start)\n",
    "    path.append((start,-1))\n",
    "    q.append(node)\n",
    "    a=[]\n",
    "    a.append(start)\n",
    "    while q:\n",
    "        node=q.popleft()\n",
    "        if node.getData() ==end:\n",
    "            return True\n",
    "        for i in node.getConnects():\n",
    "            if i not in a:\n",
    "                path.append((i,node.getData()))\n",
    "                print(path)\n",
    "\n",
    "bfs(1,5,g)"
   ],
   "metadata": {
    "collapsed": false
   }
  },
  {
   "cell_type": "code",
   "execution_count": null,
   "outputs": [],
   "source": [
    "\n",
    "def dijkstra(g,start,end):\n",
    "    n=len(g)\n",
    "    t=[]\n",
    "    dis=[-1 for i in range(n+1)]\n",
    "    dis[start]=0\n",
    "    dis[0]=99999\n",
    "    node=g.getVertex(start)\n",
    "    q=deque()\n",
    "    q.append(node)\n",
    "    f=[start for i in range(n+1)]\n",
    "    while node:\n",
    "        node=q.popleft()\n",
    "        if node.getData() not in t:\n",
    "            t.append(node.getData())\n",
    "            con=list(node.getConnects())\n",
    "            min_dis=-1;\n",
    "            min_index=-1\n",
    "            for i in con:\n",
    "                if dis[i]==-1:\n",
    "                    dis[i]=dis[node.getData()]+node.getWeight(i)\n",
    "                    f[i]=node.getData()\n",
    "                elif dis[node.getData()]+node.getWeight(i)<dis[i]:\n",
    "                    dis[i] = dis[node.getData()] + node.getWeight(i)\n",
    "                    f[i]=node.getData()\n",
    "            for index,val in enumerate(dis):\n",
    "                if index not in t and index !=0 and val!=-1:\n",
    "                    if min_dis==-1:\n",
    "                        min_index=index\n",
    "                        min_dis=val\n",
    "                    elif min_dis>val:\n",
    "                        min_index = index\n",
    "                        min_dis = val\n",
    "            if min_index!=-1:\n",
    "                q.append(g.getVertex(min_index))\n",
    "            else:\n",
    "                k=f[end]\n",
    "                realpath=[]\n",
    "                realpath.append(end)\n",
    "                while k!=start:\n",
    "                    realpath.append(k)\n",
    "                    k=f[k]\n",
    "                    print(k)\n",
    "                realpath.append(start)\n",
    "                realpath.reverse()\n",
    "                print(realpath)\n",
    "                return\n",
    "        else:\n",
    "            continue\n",
    "dijkstra(g,1,6)"
   ],
   "metadata": {
    "collapsed": false
   }
  },
  {
   "cell_type": "code",
   "execution_count": 1,
   "outputs": [
    {
     "data": {
      "text/plain": "([3, 0, 1, 1], 9)"
     },
     "execution_count": 1,
     "metadata": {},
     "output_type": "execute_result"
    }
   ],
   "source": [
    "t=[100,50,20,10]\n",
    "def change_money(n,t):\n",
    "    m=[0 for i in range(len(t))]\n",
    "    for i,money in enumerate(t):\n",
    "        m[i]=n//t[i]\n",
    "        n=n%money\n",
    "    return m,n\n",
    "change_money(339,t)"
   ],
   "metadata": {
    "collapsed": false
   }
  },
  {
   "cell_type": "code",
   "execution_count": 12,
   "outputs": [
    {
     "data": {
      "text/plain": "[(1, 4), (5, 7), (8, 11), (12, 16)]"
     },
     "execution_count": 12,
     "metadata": {},
     "output_type": "execute_result"
    }
   ],
   "source": [
    "act=[(1,4),(3,5),(0,6),(5,7),(3,9),(5,9),(6,10),(8,11),(8,12),(2,14),(12,16)]\n",
    "act.sort(key=lambda x:x[1])\n",
    "\n",
    "def plan(act):\n",
    "    res=[act[0]]\n",
    "    for i in range(1,len(act)):\n",
    "        if act[i][0]>res[-1][1]:\n",
    "            res.append(act[i])\n",
    "    return res\n",
    "plan(act)"
   ],
   "metadata": {
    "collapsed": false
   }
  },
  {
   "cell_type": "code",
   "execution_count": 9,
   "outputs": [
    {
     "data": {
      "text/plain": "55"
     },
     "execution_count": 9,
     "metadata": {},
     "output_type": "execute_result"
    }
   ],
   "source": [
    "def f(n):\n",
    "    if n==1 or n==2:\n",
    "        return 1\n",
    "    else:\n",
    "        return f(n-1)+f(n-2)\n",
    "f(10)\n",
    "def f_no_rec(n):\n",
    "    f=[0,1,1]\n",
    "    for i in range(3,n-2):\n",
    "        f.append(f[-1]+f[-2])\n",
    "    return f[-1]\n",
    "f(10)"
   ],
   "metadata": {
    "collapsed": false
   }
  },
  {
   "cell_type": "code",
   "execution_count": 46,
   "outputs": [
    {
     "data": {
      "text/plain": "(56, [2, 6, 6, 6])"
     },
     "execution_count": 46,
     "metadata": {},
     "output_type": "execute_result"
    }
   ],
   "source": [
    "p=[0,1,5,8,9,10,17,17,20,24,30]\n",
    "def cut_steel(p,n):\n",
    "    if n==0:\n",
    "        return 0\n",
    "    else:\n",
    "        res=p[n]\n",
    "        for i in range(1,n):\n",
    "           res=max(res,p[i]+cut_steel(p,n-i))\n",
    "        return res\n",
    "cut_steel(p,9)\n",
    "def cut_steel_no_rec(p,n):\n",
    "    r=[0]\n",
    "    for i in range(1,n+1):\n",
    "        res=0\n",
    "        for j in range(1,i+1):\n",
    "            res=max(res,p[j]+r[i-j])\n",
    "        r.append(res)\n",
    "    return r[n]\n",
    "cut_steel_no_rec(p,9)\n",
    "p=[0,1,5,8,9,10,17,17,20,24,27]\n",
    "def cut_steel_ex(p,n):\n",
    "    r=[0]\n",
    "    s=[0]\n",
    "    k=n\n",
    "    for i in range(1,n+1):\n",
    "        res=0\n",
    "        left=0\n",
    "        for j in range(1,i+1):\n",
    "            if j<len(p):\n",
    "                if p[j]+r[i-j]>res:\n",
    "                    res=p[j]+r[i-j]\n",
    "                    left=j\n",
    "                else:\n",
    "                    continue\n",
    "        r.append(res)\n",
    "        s.append(left)\n",
    "    ans=[]\n",
    "    while n>0:\n",
    "        ans.append(s[n])\n",
    "        n-=s[n]\n",
    "    return r[k],ans\n",
    "cut_steel_ex(p,20)\n"
   ],
   "metadata": {
    "collapsed": false
   }
  },
  {
   "cell_type": "code",
   "execution_count": 63,
   "outputs": [
    {
     "data": {
      "text/plain": "(4, ['b', 'd', 'a', 'b'])"
     },
     "execution_count": 63,
     "metadata": {},
     "output_type": "execute_result"
    }
   ],
   "source": [
    "def long_sub(x,y):\n",
    "    m=len(x)\n",
    "    n=len(y)\n",
    "    c=[[0 for i in range(n+1)] for i in range(m+1)]\n",
    "    for i in range(1,m+1):\n",
    "        for j in range(1,n+1):\n",
    "            if x[i-1]==y[j-1]:\n",
    "                c[i][j]=c[i-1][j-1]+1\n",
    "            else:\n",
    "                c[i][j]=max(c[i-1][j],c[i][j-1])\n",
    "    return c\n",
    "long_sub(\"asdfgh\",'avfhk')\n",
    "\n",
    "def lcs(x,y):\n",
    "    m=len(x)\n",
    "    n=len(y)\n",
    "    c=[[0 for i in range(n+1)] for i in range(m+1)]\n",
    "    b=[[0 for i in range(n+1)] for i in range(m+1)]\n",
    "    for i in range(1,m+1):\n",
    "        for j in range(1,n+1):\n",
    "            if x[i-1]==y[j-1]:\n",
    "                c[i][j]=c[i-1][j-1]+1\n",
    "                b[i][j]=1\n",
    "            elif c[i-1][j]>c[i][j-1]:\n",
    "                c[i][j]=c[i-1][j]\n",
    "                b[i][j]=2\n",
    "            else:\n",
    "                c[i][j]=c[i][j-1]\n",
    "                b[i][j]=3\n",
    "    i=m\n",
    "    j=n\n",
    "    res=[]\n",
    "    while i>0 and j>0:\n",
    "        if b[i][j]==1:\n",
    "            res.append(x[i-1])\n",
    "            i-=1\n",
    "            j-=1\n",
    "        elif b[i][j]==2:\n",
    "            i-=1\n",
    "        else:\n",
    "            j-=1\n",
    "    res.reverse()\n",
    "    return c[m][n],res\n",
    "lcs(\"abcbdab\",'bdcaba')\n",
    "\n"
   ],
   "metadata": {
    "collapsed": false
   }
  },
  {
   "cell_type": "code",
   "execution_count": null,
   "outputs": [],
   "source": [],
   "metadata": {
    "collapsed": false
   }
  }
 ],
 "metadata": {
  "kernelspec": {
   "display_name": "Python 3",
   "language": "python",
   "name": "python3"
  },
  "language_info": {
   "codemirror_mode": {
    "name": "ipython",
    "version": 2
   },
   "file_extension": ".py",
   "mimetype": "text/x-python",
   "name": "python",
   "nbconvert_exporter": "python",
   "pygments_lexer": "ipython2",
   "version": "2.7.6"
  }
 },
 "nbformat": 4,
 "nbformat_minor": 0
}
