{
 "cells": [
  {
   "cell_type": "code",
   "execution_count": 61,
   "metadata": {
    "collapsed": true
   },
   "outputs": [],
   "source": [
    "import matplotlib.pyplot as plt\n",
    "import torch\n",
    "import torchvision.datasets\n"
   ]
  },
  {
   "cell_type": "code",
   "execution_count": 62,
   "outputs": [],
   "source": [
    "def synthetic_data(w,b,num):\n",
    "    x=torch.normal(0,1,[num,len(w)])\n",
    "    y = torch.matmul(x, w) + b\n",
    "    y+=torch.normal(0,0.01,y.shape)\n",
    "    return x,y.reshape(-1,1)\n",
    "initial_w=torch.tensor([2,3.4])\n",
    "initial_b=4.2\n",
    "features,labels=synthetic_data(initial_w,initial_b,1000)"
   ],
   "metadata": {
    "collapsed": false
   }
  },
  {
   "cell_type": "code",
   "execution_count": 63,
   "outputs": [
    {
     "data": {
      "text/plain": "(1000, 1000)"
     },
     "execution_count": 63,
     "metadata": {},
     "output_type": "execute_result"
    }
   ],
   "source": [
    "len(features[:,1]),len(labels[:,0])"
   ],
   "metadata": {
    "collapsed": false
   }
  },
  {
   "cell_type": "code",
   "execution_count": 64,
   "outputs": [],
   "source": [
    "# plt.scatter(features[:,1],labels[:,0])"
   ],
   "metadata": {
    "collapsed": false
   }
  },
  {
   "cell_type": "code",
   "execution_count": 65,
   "outputs": [],
   "source": [
    "# import random\n",
    "# # 本函数已保存在d2lzh包中方便以后使用\n",
    "# def data_iter(batch_size, features, labels):\n",
    "#     num_examples = len(features)\n",
    "#     indices = list(range(num_examples))\n",
    "#     random.shuffle(indices)  # 样本的读取顺序是随机的\n",
    "#     for i in range(0, num_examples, batch_size):\n",
    "#         j = torch.LongTensor(indices[i: min(i + batch_size, num_examples)]) # 最后一次可能不足一个batch\n",
    "#         yield  features.index_select(0, j), labels.index_select(0, j)\n",
    "# batch_size = 10\n",
    "#\n",
    "# for X, y in data_iter(batch_size, features, labels):\n",
    "#     print(X, y)\n",
    "#     break\n"
   ],
   "metadata": {
    "collapsed": false
   }
  },
  {
   "cell_type": "code",
   "execution_count": 66,
   "outputs": [
    {
     "data": {
      "text/plain": "(tensor([[-1.5416,  0.9098],\n         [-0.4207,  0.7366],\n         [-0.5206,  0.0631],\n         [-1.5928, -2.2445],\n         [ 0.3416,  1.3888],\n         [-0.8767,  1.5081],\n         [-0.7026,  0.7748],\n         [ 0.8066, -0.7219],\n         [ 0.2504, -0.3366],\n         [ 0.3929,  0.4144]]),\n tensor([[ 4.2134],\n         [ 5.8673],\n         [ 3.3882],\n         [-6.6092],\n         [ 9.6176],\n         [ 7.5656],\n         [ 5.4244],\n         [ 3.3698],\n         [ 3.5590],\n         [ 6.3935]]))"
     },
     "execution_count": 66,
     "metadata": {},
     "output_type": "execute_result"
    }
   ],
   "source": [
    "import random\n",
    "\n",
    "\n",
    "def data_iter(batch_size,features,labels):\n",
    "    num=len(features)\n",
    "    indices=list(range(num))\n",
    "    random.shuffle(indices)\n",
    "\n",
    "    for i in range(0,num,batch_size):\n",
    "        batch_indices=torch.tensor(indices[i:min(i+batch_size,num)])\n",
    "        return features.index_select(0,batch_indices),labels.index_select(0,batch_indices)\n",
    "batch_size = 10\n",
    "\n",
    "x,y=data_iter(batch_size,features,labels)\n",
    "x,y"
   ],
   "metadata": {
    "collapsed": false
   }
  },
  {
   "cell_type": "code",
   "execution_count": 67,
   "outputs": [
    {
     "data": {
      "text/plain": "(tensor([[-0.0138],\n         [ 0.0138]], requires_grad=True),\n tensor([0.], requires_grad=True))"
     },
     "execution_count": 67,
     "metadata": {},
     "output_type": "execute_result"
    }
   ],
   "source": [
    "w=torch.normal(0,0.01,(2,1),requires_grad=True)\n",
    "# w=torch.zeros((2,1),requires_grad=True)\n",
    "b=torch.zeros(1,requires_grad=True)\n",
    "w,b"
   ],
   "metadata": {
    "collapsed": false,
    "pycharm": {
     "name": "#%%w\n"
    }
   }
  },
  {
   "cell_type": "code",
   "execution_count": 68,
   "outputs": [],
   "source": [
    "def linear(x,w,b):\n",
    "    return torch.matmul(x,w)+b"
   ],
   "metadata": {
    "collapsed": false
   }
  },
  {
   "cell_type": "code",
   "execution_count": 69,
   "outputs": [],
   "source": [
    "def sgd(params, lr,batch_size):\n",
    "    for param in params:\n",
    "        param.data-=(lr*param.grad)/batch_size"
   ],
   "metadata": {
    "collapsed": false
   }
  },
  {
   "cell_type": "code",
   "execution_count": 70,
   "outputs": [],
   "source": [
    "def squared_loss(y_hat , y):  #@save\n",
    "    \"\"\"均方损失\"\"\"\n",
    "    return (y_hat  - y.reshape(y_hat.shape)) ** 2 / 2"
   ],
   "metadata": {
    "collapsed": false
   }
  },
  {
   "cell_type": "code",
   "execution_count": 71,
   "outputs": [],
   "source": [
    "lr=0.01\n",
    "num_epochs=3\n",
    "net=linear\n",
    "loss=squared_loss\n"
   ],
   "metadata": {
    "collapsed": false
   }
  },
  {
   "cell_type": "code",
   "execution_count": 72,
   "outputs": [
    {
     "name": "stdout",
     "output_type": "stream",
     "text": [
      "epoch 1, loss 1.986610\n",
      "epoch 2, loss 0.266951\n",
      "epoch 3, loss 0.031089\n"
     ]
    }
   ],
   "source": [
    "for epoch in range(num_epochs):\n",
    "    for i in range(100):\n",
    "        x,y=data_iter(batch_size,features,labels)\n",
    "        l=loss(net(x,w,b),y)\n",
    "        l.sum().backward()\n",
    "        sgd([w,b],lr,batch_size)\n",
    "        w.grad.data.zero_()\n",
    "        b.grad.data.zero_()\n",
    "    train_l=loss(net(features,w,b),labels)\n",
    "    print('epoch %d, loss %f' % (epoch + 1, train_l.mean().item()))"
   ],
   "metadata": {
    "collapsed": false
   }
  },
  {
   "cell_type": "code",
   "execution_count": 73,
   "outputs": [
    {
     "name": "stdout",
     "output_type": "stream",
     "text": [
      "w的估计误差: tensor([0.0711, 0.1433], grad_fn=<SubBackward0>)\n",
      "b的估计误差: tensor([0.1957], grad_fn=<RsubBackward1>)\n"
     ]
    }
   ],
   "source": [
    "print(f'w的估计误差: {initial_w - w.reshape(initial_w.shape)}')\n",
    "print(f'b的估计误差: {initial_b - b}')"
   ],
   "metadata": {
    "collapsed": false
   }
  },
  {
   "cell_type": "markdown",
   "source": [
    "简洁实现"
   ],
   "metadata": {
    "collapsed": false
   }
  },
  {
   "cell_type": "code",
   "execution_count": 74,
   "outputs": [],
   "source": [
    "def synthetic_data(w,b,num):\n",
    "    x=torch.normal(0,1,[num,len(w)])\n",
    "    y = torch.matmul(x, w) + b\n",
    "    y+=torch.normal(0,0.01,y.shape)\n",
    "    return x,y.reshape(-1,1)\n",
    "initial_w=torch.tensor([2,3.4])\n",
    "initial_b=4.2\n",
    "features,labels=synthetic_data(initial_w,initial_b,1000)"
   ],
   "metadata": {
    "collapsed": false
   }
  },
  {
   "cell_type": "code",
   "execution_count": 75,
   "outputs": [],
   "source": [
    "from torch.utils import data\n",
    "def load_array(data_arrays,batch_size,is_train=True):\n",
    "    dataset=data.TensorDataset(*data_arrays)\n",
    "    return data.DataLoader(dataset,batch_size,shuffle=is_train)\n",
    "\n",
    "data_iter=load_array((features,labels),batch_size)"
   ],
   "metadata": {
    "collapsed": false
   }
  },
  {
   "cell_type": "code",
   "execution_count": 76,
   "outputs": [],
   "source": [
    "# next(iter(data_iter))"
   ],
   "metadata": {
    "collapsed": false
   }
  },
  {
   "cell_type": "code",
   "execution_count": 77,
   "outputs": [],
   "source": [
    "from torch import nn\n",
    "net=nn.Sequential(nn.Linear(2,1))"
   ],
   "metadata": {
    "collapsed": false
   }
  },
  {
   "cell_type": "code",
   "execution_count": 78,
   "outputs": [
    {
     "data": {
      "text/plain": "tensor([0.])"
     },
     "execution_count": 78,
     "metadata": {},
     "output_type": "execute_result"
    }
   ],
   "source": [
    "net[0].weight.data.normal_(0, 0.01)\n",
    "net[0].bias.data.fill_(0)"
   ],
   "metadata": {
    "collapsed": false
   }
  },
  {
   "cell_type": "code",
   "execution_count": 79,
   "outputs": [],
   "source": [
    "loss=nn.MSELoss()"
   ],
   "metadata": {
    "collapsed": false
   }
  },
  {
   "cell_type": "code",
   "execution_count": 80,
   "outputs": [],
   "source": [
    "trainer=torch.optim.SGD(net.parameters(),lr=0.01)"
   ],
   "metadata": {
    "collapsed": false
   }
  },
  {
   "cell_type": "code",
   "execution_count": 81,
   "outputs": [
    {
     "name": "stdout",
     "output_type": "stream",
     "text": [
      "epoch 1, loss 0.623857\n",
      "epoch 2, loss 0.012189\n",
      "epoch 3, loss 0.000338\n"
     ]
    }
   ],
   "source": [
    "for epoch in range(num_epochs):\n",
    "    for x,y in data_iter:\n",
    "        l=loss(net(x),y)\n",
    "        trainer.zero_grad()\n",
    "        l.backward()\n",
    "        trainer.step()\n",
    "    l=loss(net(features),labels)\n",
    "    print(f'epoch {epoch + 1}, loss {l:f}')"
   ],
   "metadata": {
    "collapsed": false
   }
  },
  {
   "cell_type": "code",
   "execution_count": 82,
   "outputs": [
    {
     "name": "stdout",
     "output_type": "stream",
     "text": [
      "w的估计误差： tensor([0.0043, 0.0078])\n",
      "b的估计误差： tensor([0.0125])\n"
     ]
    }
   ],
   "source": [
    "w = net[0].weight.data\n",
    "print('w的估计误差：', initial_w - w.reshape(initial_w.shape))\n",
    "b = net[0].bias.data\n",
    "print('b的估计误差：', initial_b - b)"
   ],
   "metadata": {
    "collapsed": false
   }
  },
  {
   "cell_type": "markdown",
   "source": [
    "MINST"
   ],
   "metadata": {
    "collapsed": false
   }
  },
  {
   "cell_type": "code",
   "execution_count": 83,
   "outputs": [
    {
     "data": {
      "text/plain": "(Dataset FashionMNIST\n     Number of datapoints: 10000\n     Root location: C:\\Users\\sunyu/Datasets/FashionMNIST\n     Split: Test\n     StandardTransform\n Transform: ToTensor(),\n Dataset FashionMNIST\n     Number of datapoints: 60000\n     Root location: C:\\Users\\sunyu/Datasets/FashionMNIST\n     Split: Train\n     StandardTransform\n Transform: ToTensor())"
     },
     "execution_count": 83,
     "metadata": {},
     "output_type": "execute_result"
    }
   ],
   "source": [
    "import torchvision\n",
    "import torchvision.transforms as transforms\n",
    "mnist_train = torchvision.datasets.FashionMNIST(root='~/Datasets/FashionMNIST', train=True, download=True, transform=transforms.ToTensor())\n",
    "mnist_test = torchvision.datasets.FashionMNIST(root='~/Datasets/FashionMNIST', train=False, download=True, transform=transforms.ToTensor())\n",
    "mnist_test,mnist_train"
   ],
   "metadata": {
    "collapsed": false
   }
  },
  {
   "cell_type": "code",
   "execution_count": 84,
   "outputs": [
    {
     "data": {
      "text/plain": "torch.Size([1, 28, 28])"
     },
     "execution_count": 84,
     "metadata": {},
     "output_type": "execute_result"
    }
   ],
   "source": [
    "mnist_train[0][0].size()"
   ],
   "metadata": {
    "collapsed": false
   }
  },
  {
   "cell_type": "code",
   "execution_count": 85,
   "outputs": [
    {
     "name": "stdout",
     "output_type": "stream",
     "text": [
      "torch.Size([1, 28, 28]) 9\n"
     ]
    }
   ],
   "source": [
    "feature,label=mnist_train[0]\n",
    "print(feature.shape,label)"
   ],
   "metadata": {
    "collapsed": false
   }
  },
  {
   "cell_type": "code",
   "execution_count": 86,
   "outputs": [],
   "source": [
    "def get_fashion_mnist_labels(labels):\n",
    "    text_labels = ['t-shirt', 'trouser', 'pullover', 'dress', 'coat',\n",
    "                   'sandal', 'shirt', 'sneaker', 'bag', 'ankle boot']\n",
    "    return [text_labels[int(i)] for i in labels]"
   ],
   "metadata": {
    "collapsed": false
   }
  },
  {
   "cell_type": "code",
   "execution_count": 87,
   "outputs": [],
   "source": [
    "def show_images(imgs, num_rows, num_cols, titles=None, scale=1.5):  #@save\n",
    "    \"\"\"绘制图像列表\"\"\"\n",
    "    figsize = (num_cols * scale, num_rows * scale)\n",
    "    _, axes = plt.subplots(num_rows, num_cols, figsize=figsize)\n",
    "    axes = axes.flatten()\n",
    "    for i, (ax, img) in enumerate(zip(axes, imgs)):\n",
    "        if torch.is_tensor(img):\n",
    "            # 图片张量\n",
    "            ax.imshow(img.numpy())\n",
    "        else:\n",
    "            # PIL图片\n",
    "            ax.imshow(img)\n",
    "        ax.axes.get_xaxis().set_visible(False)\n",
    "        ax.axes.get_yaxis().set_visible(False)\n",
    "        if titles:\n",
    "            ax.set_title(titles[i])\n",
    "    return axes"
   ],
   "metadata": {
    "collapsed": false
   }
  },
  {
   "cell_type": "code",
   "execution_count": 88,
   "outputs": [
    {
     "data": {
      "text/plain": "<Figure size 1350x300 with 18 Axes>",
      "image/png": "[encoded data removed]"
     },
     "metadata": {},
     "output_type": "display_data"
    }
   ],
   "source": [
    "X, y = next(iter(data.DataLoader(mnist_train, batch_size=18)))\n",
    "show_images(X.reshape(18, 28, 28), 2, 9, titles=get_fashion_mnist_labels(y));"
   ],
   "metadata": {
    "collapsed": false
   }
  },
  {
   "cell_type": "code",
   "execution_count": 89,
   "outputs": [],
   "source": [
    "batch_size=256\n",
    "threat_num=4\n",
    "train_iter=data.DataLoader(mnist_train,batch_size,shuffle=True,num_workers=threat_num)\n",
    "test_iter=data.DataLoader(mnist_test,batch_size,shuffle=True,num_workers=threat_num)"
   ],
   "metadata": {
    "collapsed": false
   }
  },
  {
   "cell_type": "code",
   "execution_count": 90,
   "outputs": [
    {
     "name": "stdout",
     "output_type": "stream",
     "text": [
      "2.87 sec\n"
     ]
    }
   ],
   "source": [
    "import time\n",
    "\n",
    "start = time.time()\n",
    "for X, y in train_iter:\n",
    "    continue\n",
    "print('%.2f sec' % (time.time() - start))\n"
   ],
   "metadata": {
    "collapsed": false
   }
  },
  {
   "cell_type": "code",
   "execution_count": 91,
   "outputs": [
    {
     "name": "stdout",
     "output_type": "stream",
     "text": [
      "torch.Size([256, 1, 28, 28]) torch.float32 torch.Size([256]) torch.int64\n"
     ]
    }
   ],
   "source": [
    "for X, y in train_iter:\n",
    "    print(X.shape, X.dtype, y.shape, y.dtype)\n",
    "    break"
   ],
   "metadata": {
    "collapsed": false
   }
  },
  {
   "cell_type": "code",
   "execution_count": 92,
   "outputs": [
    {
     "data": {
      "text/plain": "(tensor([[ 0.0129, -0.0092, -0.0015,  ...,  0.0088,  0.0023,  0.0134],\n         [-0.0070,  0.0065, -0.0070,  ..., -0.0192,  0.0038,  0.0123],\n         [-0.0076, -0.0043, -0.0197,  ..., -0.0130,  0.0140,  0.0044],\n         ...,\n         [ 0.0201, -0.0130,  0.0049,  ...,  0.0020,  0.0149, -0.0028],\n         [ 0.0058,  0.0096, -0.0127,  ..., -0.0040, -0.0055,  0.0028],\n         [-0.0058,  0.0106, -0.0055,  ..., -0.0056, -0.0080,  0.0241]],\n        requires_grad=True),\n tensor([0., 0., 0., 0., 0., 0., 0., 0., 0., 0.], requires_grad=True))"
     },
     "execution_count": 92,
     "metadata": {},
     "output_type": "execute_result"
    }
   ],
   "source": [
    "num_inputs=784\n",
    "num_outputs=10\n",
    "\n",
    "w=torch.normal(0,0.01,[num_inputs,num_outputs],requires_grad=True)\n",
    "b=torch.zeros(num_outputs,requires_grad=True)\n",
    "w,b"
   ],
   "metadata": {
    "collapsed": false
   }
  },
  {
   "cell_type": "code",
   "execution_count": 93,
   "outputs": [],
   "source": [
    "def softmax(x):\n",
    "    x_exp=torch.exp(x)\n",
    "    partition=x_exp.sum(1,keepdim=True)\n",
    "    return  x_exp/partition"
   ],
   "metadata": {
    "collapsed": false
   }
  },
  {
   "cell_type": "code",
   "execution_count": 94,
   "outputs": [
    {
     "data": {
      "text/plain": "(tensor([[0.0309, 0.0078, 0.0204, 0.0927, 0.8482],\n         [0.0383, 0.1921, 0.2788, 0.1521, 0.3388]]),\n tensor([1.0000, 1.0000]))"
     },
     "execution_count": 94,
     "metadata": {},
     "output_type": "execute_result"
    }
   ],
   "source": [
    "x=torch.normal(0,1,[2,5])\n",
    "x\n",
    "x_pre=softmax(x)\n",
    "x_pre,x_pre.sum(1)"
   ],
   "metadata": {
    "collapsed": false
   }
  },
  {
   "cell_type": "code",
   "execution_count": 95,
   "outputs": [],
   "source": [
    "def net(X):\n",
    "    return softmax(torch.mm(X.view((-1, num_inputs)), w) + b)\n"
   ],
   "metadata": {
    "collapsed": false
   }
  },
  {
   "cell_type": "code",
   "execution_count": 96,
   "outputs": [
    {
     "data": {
      "text/plain": "tensor([0, 2])"
     },
     "execution_count": 96,
     "metadata": {},
     "output_type": "execute_result"
    }
   ],
   "source": [
    "y=torch.tensor([0,2])\n",
    "y"
   ],
   "metadata": {
    "collapsed": false
   }
  },
  {
   "cell_type": "code",
   "execution_count": 97,
   "outputs": [
    {
     "data": {
      "text/plain": "tensor([2.3026, 0.6931])"
     },
     "execution_count": 97,
     "metadata": {},
     "output_type": "execute_result"
    }
   ],
   "source": [
    "y_hat = torch.tensor([[0.1, 0.3, 0.6], [0.3, 0.2, 0.5]])\n",
    "def cross_entropy(y_hat, y):\n",
    "    return - torch.log(y_hat[range(len(y_hat)), y])\n",
    "\n",
    "cross_entropy(y_hat, y)"
   ],
   "metadata": {
    "collapsed": false
   }
  },
  {
   "cell_type": "code",
   "execution_count": 98,
   "outputs": [],
   "source": [
    "def accuracy(y_hat,y):\n",
    "    # return (y_hat.argmax(dim=1)==y).float().mean().item()\n",
    "    return  (y_hat.argmax(dim=1)==y).float().mean().tolist()"
   ],
   "metadata": {
    "collapsed": false
   }
  },
  {
   "cell_type": "code",
   "execution_count": 99,
   "outputs": [
    {
     "name": "stdout",
     "output_type": "stream",
     "text": [
      "0.5\n"
     ]
    }
   ],
   "source": [
    "print(accuracy(y_hat, y))"
   ],
   "metadata": {
    "collapsed": false
   }
  },
  {
   "cell_type": "code",
   "execution_count": 100,
   "outputs": [],
   "source": [
    "# 本函数已保存在d2lzh_pytorch包中方便以后使用。该函数将被逐步改进：它的完整实现将在“图像增广”一节中描述\n",
    "def evaluate_accuracy(data_iter, net):\n",
    "    acc_sum, n = 0.0, 0\n",
    "    for X, y in data_iter:\n",
    "        acc_sum += (net(X).argmax(dim=1) == y).float().sum().item()\n",
    "        n += y.shape[0]\n",
    "    return acc_sum / n\n"
   ],
   "metadata": {
    "collapsed": false
   }
  },
  {
   "cell_type": "code",
   "execution_count": 101,
   "outputs": [
    {
     "name": "stdout",
     "output_type": "stream",
     "text": [
      "0.0649\n"
     ]
    }
   ],
   "source": [
    "print(evaluate_accuracy(test_iter, net))\n"
   ],
   "metadata": {
    "collapsed": false
   }
  },
  {
   "cell_type": "code",
   "execution_count": 102,
   "outputs": [
    {
     "name": "stdout",
     "output_type": "stream",
     "text": [
      "epoch 1, loss 0.7868, train acc 0.750, test acc 0.795\n",
      "epoch 2, loss 0.5705, train acc 0.813, test acc 0.813\n",
      "epoch 3, loss 0.5254, train acc 0.826, test acc 0.818\n",
      "epoch 4, loss 0.5013, train acc 0.831, test acc 0.823\n",
      "epoch 5, loss 0.4851, train acc 0.838, test acc 0.826\n"
     ]
    }
   ],
   "source": [
    "num_epochs, lr = 5, 0.1\n",
    "\n",
    "# 本函数已保存在d2lzh包中方便以后使用\n",
    "def train_ch3(net, train_iter, test_iter, loss, num_epochs, batch_size,\n",
    "              params=None, lr=None, optimizer=None):\n",
    "    for epoch in range(num_epochs):\n",
    "        train_l_sum, train_acc_sum, n = 0.0, 0.0, 0\n",
    "        for X, y in train_iter:\n",
    "            y_hat = net(X)\n",
    "            l = loss(y_hat, y).sum()\n",
    "\n",
    "            # 梯度清零\n",
    "            if optimizer is not None:\n",
    "                optimizer.zero_grad()\n",
    "            elif params is not None and params[0].grad is not None:\n",
    "                for param in params:\n",
    "                    param.grad.data.zero_()\n",
    "\n",
    "            l.backward()\n",
    "            if optimizer is None:\n",
    "                sdg(params, lr, batch_size)\n",
    "            else:\n",
    "                optimizer.step()  # “softmax回归的简洁实现”一节将用到\n",
    "\n",
    "\n",
    "            train_l_sum += l.item()\n",
    "            train_acc_sum += (y_hat.argmax(dim=1) == y).sum().item()\n",
    "            n += y.shape[0]\n",
    "        test_acc = evaluate_accuracy(test_iter, net)\n",
    "        print('epoch %d, loss %.4f, train acc %.3f, test acc %.3f'\n",
    "              % (epoch + 1, train_l_sum / n, train_acc_sum / n, test_acc))\n",
    "\n",
    "train_ch3(net, train_iter, test_iter, cross_entropy, num_epochs, batch_size, [w, b], lr)\n"
   ],
   "metadata": {
    "collapsed": false
   }
  },
  {
   "cell_type": "code",
   "execution_count": 103,
   "outputs": [
    {
     "data": {
      "text/plain": "<Figure size 1500x150 with 10 Axes>",
      "image/png": "[encoded data removed]"
     },
     "metadata": {},
     "output_type": "display_data"
    }
   ],
   "source": [
    "def predict_ch3(net, test_iter, n=6):  #@save\n",
    "    \"\"\"预测标签（定义见第3章）\"\"\"\n",
    "    for X, y in test_iter:\n",
    "        break\n",
    "    trues = get_fashion_mnist_labels(y)\n",
    "    preds = get_fashion_mnist_labels(net(X).argmax(axis=1))\n",
    "    titles = [true +'\\n' + pred for true, pred in zip(trues, preds)]\n",
    "    show_images(\n",
    "        X[0:n].reshape((n, 28, 28)), 1, n, titles=titles[0:n])\n",
    "\n",
    "predict_ch3(net, test_iter,10)"
   ],
   "metadata": {
    "collapsed": false
   }
  },
  {
   "cell_type": "code",
   "execution_count": 104,
   "outputs": [],
   "source": [
    "import torchvision\n",
    "import torchvision.transforms as transforms\n",
    "mnist_train = torchvision.datasets.FashionMNIST(root='~/Datasets/FashionMNIST', train=True, download=True, transform=transforms.ToTensor())\n",
    "mnist_test = torchvision.datasets.FashionMNIST(root='~/Datasets/FashionMNIST', train=False, download=True, transform=transforms.ToTensor())\n",
    "batch_size=256\n",
    "threat_num=4\n",
    "train_iter=data.DataLoader(mnist_train,batch_size,shuffle=True,num_workers=threat_num)\n",
    "test_iter=data.DataLoader(mnist_test,batch_size,shuffle=True,num_workers=threat_num)"
   ],
   "metadata": {
    "collapsed": false
   }
  },
  {
   "cell_type": "code",
   "execution_count": 105,
   "outputs": [
    {
     "data": {
      "text/plain": "Sequential(\n  (0): Flatten(start_dim=1, end_dim=-1)\n  (1): Linear(in_features=784, out_features=10, bias=True)\n)"
     },
     "execution_count": 105,
     "metadata": {},
     "output_type": "execute_result"
    }
   ],
   "source": [
    "num_inputs = 784\n",
    "num_outputs = 10\n",
    "\n",
    "net=nn.Sequential(nn.Flatten(),nn.Linear(num_inputs,num_outputs))\n",
    "\n",
    "def init_weights(m):\n",
    "    if type(m) == nn.Linear:\n",
    "        nn.init.normal_(m.weight,std=0.01)\n",
    "net.apply(init_weights)\n",
    "\n",
    "\n"
   ],
   "metadata": {
    "collapsed": false
   }
  },
  {
   "cell_type": "code",
   "execution_count": 106,
   "outputs": [],
   "source": [
    "loss=nn.CrossEntropyLoss()"
   ],
   "metadata": {
    "collapsed": false
   }
  },
  {
   "cell_type": "code",
   "execution_count": 107,
   "outputs": [],
   "source": [
    "trainer=torch.optim.SGD(net.parameters(),0.01)"
   ],
   "metadata": {
    "collapsed": false
   }
  },
  {
   "cell_type": "code",
   "execution_count": 108,
   "outputs": [],
   "source": [
    "def train_softmax(net,train_iter,test_iter,loss,num_epochs,optimizer):\n",
    "    l1=[]\n",
    "    l2=[]\n",
    "    for epoch in range(num_epochs):\n",
    "        sum_loss,acc_train,n_train,acc_test,n_test=0,0,0,0,0\n",
    "        for x,y in train_iter:\n",
    "            k=net(x)\n",
    "            l=loss(k,y)\n",
    "            optimizer.zero_grad()\n",
    "            l.backward()\n",
    "            optimizer.step()\n",
    "\n",
    "            sum_loss+=l.item()\n",
    "            acc_train+=(k.argmax(dim=1)==y).float().sum().item()\n",
    "            n_train+=y.shape[0]\n",
    "        for x,y in test_iter:\n",
    "            k=net(x)\n",
    "            acc_test+=(k.argmax(dim=1)==y).float().sum().item()\n",
    "            n_test+=y.shape[0]\n",
    "        # print(\"epoch: \"+str(epoch+1))\n",
    "        # print(\"acc_train: \"+ str(acc_train/n_train))\n",
    "        # print(\"test_acc: \"+str(acc_test/n_test))\n",
    "        l1.append(acc_train/n_train)\n",
    "        l2.append(acc_test/n_test)\n",
    "    plt.plot(range(10),l1)\n",
    "    plt.plot(range(10),l2)\n",
    "    plt.legend(['train_acc','test_acc'])\n",
    "    plt.show()"
   ],
   "metadata": {
    "collapsed": false
   }
  },
  {
   "cell_type": "code",
   "execution_count": 109,
   "outputs": [
    {
     "data": {
      "text/plain": "<Figure size 640x480 with 1 Axes>",
      "image/png": "[encoded data removed]"
     },
     "metadata": {},
     "output_type": "display_data"
    }
   ],
   "source": [
    "num_epochs = 10\n",
    "train_softmax(net,train_iter,test_iter,loss,num_epochs,trainer)"
   ],
   "metadata": {
    "collapsed": false
   }
  }
 ],
 "metadata": {
  "kernelspec": {
   "display_name": "Python 3",
   "language": "python",
   "name": "python3"
  },
  "language_info": {
   "codemirror_mode": {
    "name": "ipython",
    "version": 2
   },
   "file_extension": ".py",
   "mimetype": "text/x-python",
   "name": "python",
   "nbconvert_exporter": "python",
   "pygments_lexer": "ipython2",
   "version": "2.7.6"
  }
 },
 "nbformat": 4,
 "nbformat_minor": 0
}
